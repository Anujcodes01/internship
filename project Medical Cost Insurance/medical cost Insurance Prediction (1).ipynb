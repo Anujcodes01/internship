{
 "cells": [
  {
   "cell_type": "markdown",
   "id": "e4ac8cad",
   "metadata": {
    "papermill": {
     "duration": 0.014176,
     "end_time": "2023-04-23T11:29:46.505720",
     "exception": false,
     "start_time": "2023-04-23T11:29:46.491544",
     "status": "completed"
    },
    "tags": []
   },
   "source": [
    "# Medical Cost Personal Insurance Project \n",
    "\n",
    "Project Description\n",
    "\n",
    "Health insurance is a type of insurance that covers medical expenses that arise due to an illness. These expenses could be related to hospitalisation costs, cost of medicines or doctor consultation fees. The main purpose of medical insurance is to receive the best medical care without any strain on your finances. Health insurance plans offer protection against high medical costs. It covers hospitalization expenses, day care procedures, domiciliary expenses, and ambulance charges, besides many others. Based on certain input features such as age , bmi,,no of dependents ,smoker ,region medical insurance is calculated .\n",
    "\n",
    "Columns\n",
    "\n",
    "age: age of primary beneficiary\n",
    "\n",
    "sex: insurance contractor gender, female, male\n",
    "\n",
    "bmi: Body mass index, providing an understanding of body, weights that are relatively high or low relative to height, objective index of body weight (kg / m ^ 2) using the ratio of height to weight, ideally 18.5 to 24.9.\n",
    "\n",
    "children: Number of children covered by health insurance / Number of dependents\n",
    "\n",
    "smoker: Smoking\n",
    "\n",
    "region: the beneficiary's residential area in the US, northeast, southeast, southwest, northwest.\n",
    "\n",
    "charges: Individual medical costs billed by health insurance\n"
   ]
  },
  {
   "cell_type": "markdown",
   "id": "400a848f",
   "metadata": {
    "papermill": {
     "duration": 0.012492,
     "end_time": "2023-04-23T11:29:46.531144",
     "exception": false,
     "start_time": "2023-04-23T11:29:46.518652",
     "status": "completed"
    },
    "tags": []
   },
   "source": [
    "## Imports"
   ]
  },
  {
   "cell_type": "code",
   "execution_count": 1,
   "id": "ba660e1c",
   "metadata": {
    "_cell_guid": "b1076dfc-b9ad-4769-8c92-a6c4dae69d19",
    "_uuid": "8f2839f25d086af736a60e9eeb907d3b93b6e0e5",
    "execution": {
     "iopub.execute_input": "2023-04-23T11:29:46.560294Z",
     "iopub.status.busy": "2023-04-23T11:29:46.559272Z",
     "iopub.status.idle": "2023-04-23T11:29:47.648841Z",
     "shell.execute_reply": "2023-04-23T11:29:47.647537Z"
    },
    "papermill": {
     "duration": 1.107486,
     "end_time": "2023-04-23T11:29:47.651618",
     "exception": false,
     "start_time": "2023-04-23T11:29:46.544132",
     "status": "completed"
    },
    "tags": []
   },
   "outputs": [],
   "source": [
    "#Import Library\n",
    "import warnings\n",
    "warnings.filterwarnings('ignore')\n",
    "\n",
    "#DataFrame Library\n",
    "import pandas as pd\n",
    "import numpy as np\n",
    "\n",
    "#Visualization Library\n",
    "import matplotlib.pyplot as plt\n",
    "import seaborn as sns\n",
    "\n",
    "#Modelin Library\n",
    "from sklearn.preprocessing import MinMaxScaler\n",
    "from sklearn.model_selection import train_test_split\n",
    "from sklearn.metrics import mean_squared_error, mean_absolute_error, r2_score\n",
    "from sklearn.model_selection import RandomizedSearchCV\n",
    "from sklearn.linear_model import Ridge, Lasso, ElasticNet\n",
    "from sklearn.linear_model import LinearRegression\n",
    "from sklearn.tree import DecisionTreeRegressor\n",
    "from sklearn.ensemble import RandomForestRegressor\n",
    "from sklearn.svm import SVR"
   ]
  },
  {
   "cell_type": "markdown",
   "id": "2c127558",
   "metadata": {
    "papermill": {
     "duration": 0.012935,
     "end_time": "2023-04-23T11:29:47.679059",
     "exception": false,
     "start_time": "2023-04-23T11:29:47.666124",
     "status": "completed"
    },
    "tags": []
   },
   "source": [
    "## Overview & Preparation\n",
    "First, let's have a look at the data and see what we can observe/clean up."
   ]
  },
  {
   "cell_type": "code",
   "execution_count": 2,
   "id": "e306e2b2",
   "metadata": {
    "execution": {
     "iopub.execute_input": "2023-04-23T11:29:47.707830Z",
     "iopub.status.busy": "2023-04-23T11:29:47.707132Z",
     "iopub.status.idle": "2023-04-23T11:29:47.750981Z",
     "shell.execute_reply": "2023-04-23T11:29:47.749937Z"
    },
    "papermill": {
     "duration": 0.061011,
     "end_time": "2023-04-23T11:29:47.753432",
     "exception": false,
     "start_time": "2023-04-23T11:29:47.692421",
     "status": "completed"
    },
    "tags": []
   },
   "outputs": [
    {
     "data": {
      "text/html": [
       "<div>\n",
       "<style scoped>\n",
       "    .dataframe tbody tr th:only-of-type {\n",
       "        vertical-align: middle;\n",
       "    }\n",
       "\n",
       "    .dataframe tbody tr th {\n",
       "        vertical-align: top;\n",
       "    }\n",
       "\n",
       "    .dataframe thead th {\n",
       "        text-align: right;\n",
       "    }\n",
       "</style>\n",
       "<table border=\"1\" class=\"dataframe\">\n",
       "  <thead>\n",
       "    <tr style=\"text-align: right;\">\n",
       "      <th></th>\n",
       "      <th>age</th>\n",
       "      <th>sex</th>\n",
       "      <th>bmi</th>\n",
       "      <th>children</th>\n",
       "      <th>smoker</th>\n",
       "      <th>region</th>\n",
       "      <th>charges</th>\n",
       "    </tr>\n",
       "  </thead>\n",
       "  <tbody>\n",
       "    <tr>\n",
       "      <th>0</th>\n",
       "      <td>19</td>\n",
       "      <td>female</td>\n",
       "      <td>27.900</td>\n",
       "      <td>0</td>\n",
       "      <td>yes</td>\n",
       "      <td>southwest</td>\n",
       "      <td>16884.92400</td>\n",
       "    </tr>\n",
       "    <tr>\n",
       "      <th>1</th>\n",
       "      <td>18</td>\n",
       "      <td>male</td>\n",
       "      <td>33.770</td>\n",
       "      <td>1</td>\n",
       "      <td>no</td>\n",
       "      <td>southeast</td>\n",
       "      <td>1725.55230</td>\n",
       "    </tr>\n",
       "    <tr>\n",
       "      <th>2</th>\n",
       "      <td>28</td>\n",
       "      <td>male</td>\n",
       "      <td>33.000</td>\n",
       "      <td>3</td>\n",
       "      <td>no</td>\n",
       "      <td>southeast</td>\n",
       "      <td>4449.46200</td>\n",
       "    </tr>\n",
       "    <tr>\n",
       "      <th>3</th>\n",
       "      <td>33</td>\n",
       "      <td>male</td>\n",
       "      <td>22.705</td>\n",
       "      <td>0</td>\n",
       "      <td>no</td>\n",
       "      <td>northwest</td>\n",
       "      <td>21984.47061</td>\n",
       "    </tr>\n",
       "    <tr>\n",
       "      <th>4</th>\n",
       "      <td>32</td>\n",
       "      <td>male</td>\n",
       "      <td>28.880</td>\n",
       "      <td>0</td>\n",
       "      <td>no</td>\n",
       "      <td>northwest</td>\n",
       "      <td>3866.85520</td>\n",
       "    </tr>\n",
       "  </tbody>\n",
       "</table>\n",
       "</div>"
      ],
      "text/plain": [
       "   age     sex     bmi  children smoker     region      charges\n",
       "0   19  female  27.900         0    yes  southwest  16884.92400\n",
       "1   18    male  33.770         1     no  southeast   1725.55230\n",
       "2   28    male  33.000         3     no  southeast   4449.46200\n",
       "3   33    male  22.705         0     no  northwest  21984.47061\n",
       "4   32    male  28.880         0     no  northwest   3866.85520"
      ]
     },
     "execution_count": 2,
     "metadata": {},
     "output_type": "execute_result"
    }
   ],
   "source": [
    "df = pd.read_csv('medical_cost_insurance.csv')\n",
    "df.head()"
   ]
  },
  {
   "cell_type": "code",
   "execution_count": 3,
   "id": "9e631b9e",
   "metadata": {
    "execution": {
     "iopub.execute_input": "2023-04-23T11:29:47.783590Z",
     "iopub.status.busy": "2023-04-23T11:29:47.782724Z",
     "iopub.status.idle": "2023-04-23T11:29:47.797233Z",
     "shell.execute_reply": "2023-04-23T11:29:47.795944Z"
    },
    "papermill": {
     "duration": 0.032176,
     "end_time": "2023-04-23T11:29:47.799549",
     "exception": false,
     "start_time": "2023-04-23T11:29:47.767373",
     "status": "completed"
    },
    "tags": []
   },
   "outputs": [
    {
     "data": {
      "text/html": [
       "<div>\n",
       "<style scoped>\n",
       "    .dataframe tbody tr th:only-of-type {\n",
       "        vertical-align: middle;\n",
       "    }\n",
       "\n",
       "    .dataframe tbody tr th {\n",
       "        vertical-align: top;\n",
       "    }\n",
       "\n",
       "    .dataframe thead th {\n",
       "        text-align: right;\n",
       "    }\n",
       "</style>\n",
       "<table border=\"1\" class=\"dataframe\">\n",
       "  <thead>\n",
       "    <tr style=\"text-align: right;\">\n",
       "      <th></th>\n",
       "      <th>age</th>\n",
       "      <th>sex</th>\n",
       "      <th>bmi</th>\n",
       "      <th>children</th>\n",
       "      <th>smoker</th>\n",
       "      <th>region</th>\n",
       "      <th>charges</th>\n",
       "    </tr>\n",
       "  </thead>\n",
       "  <tbody>\n",
       "    <tr>\n",
       "      <th>1333</th>\n",
       "      <td>50</td>\n",
       "      <td>male</td>\n",
       "      <td>30.97</td>\n",
       "      <td>3</td>\n",
       "      <td>no</td>\n",
       "      <td>northwest</td>\n",
       "      <td>10600.5483</td>\n",
       "    </tr>\n",
       "    <tr>\n",
       "      <th>1334</th>\n",
       "      <td>18</td>\n",
       "      <td>female</td>\n",
       "      <td>31.92</td>\n",
       "      <td>0</td>\n",
       "      <td>no</td>\n",
       "      <td>northeast</td>\n",
       "      <td>2205.9808</td>\n",
       "    </tr>\n",
       "    <tr>\n",
       "      <th>1335</th>\n",
       "      <td>18</td>\n",
       "      <td>female</td>\n",
       "      <td>36.85</td>\n",
       "      <td>0</td>\n",
       "      <td>no</td>\n",
       "      <td>southeast</td>\n",
       "      <td>1629.8335</td>\n",
       "    </tr>\n",
       "    <tr>\n",
       "      <th>1336</th>\n",
       "      <td>21</td>\n",
       "      <td>female</td>\n",
       "      <td>25.80</td>\n",
       "      <td>0</td>\n",
       "      <td>no</td>\n",
       "      <td>southwest</td>\n",
       "      <td>2007.9450</td>\n",
       "    </tr>\n",
       "    <tr>\n",
       "      <th>1337</th>\n",
       "      <td>61</td>\n",
       "      <td>female</td>\n",
       "      <td>29.07</td>\n",
       "      <td>0</td>\n",
       "      <td>yes</td>\n",
       "      <td>northwest</td>\n",
       "      <td>29141.3603</td>\n",
       "    </tr>\n",
       "  </tbody>\n",
       "</table>\n",
       "</div>"
      ],
      "text/plain": [
       "      age     sex    bmi  children smoker     region     charges\n",
       "1333   50    male  30.97         3     no  northwest  10600.5483\n",
       "1334   18  female  31.92         0     no  northeast   2205.9808\n",
       "1335   18  female  36.85         0     no  southeast   1629.8335\n",
       "1336   21  female  25.80         0     no  southwest   2007.9450\n",
       "1337   61  female  29.07         0    yes  northwest  29141.3603"
      ]
     },
     "execution_count": 3,
     "metadata": {},
     "output_type": "execute_result"
    }
   ],
   "source": [
    "df.tail()"
   ]
  },
  {
   "cell_type": "code",
   "execution_count": 4,
   "id": "9a0d2c78",
   "metadata": {
    "execution": {
     "iopub.execute_input": "2023-04-23T11:29:47.829800Z",
     "iopub.status.busy": "2023-04-23T11:29:47.829005Z",
     "iopub.status.idle": "2023-04-23T11:29:47.863943Z",
     "shell.execute_reply": "2023-04-23T11:29:47.863108Z"
    },
    "papermill": {
     "duration": 0.052706,
     "end_time": "2023-04-23T11:29:47.866161",
     "exception": false,
     "start_time": "2023-04-23T11:29:47.813455",
     "status": "completed"
    },
    "tags": []
   },
   "outputs": [
    {
     "data": {
      "text/html": [
       "<div>\n",
       "<style scoped>\n",
       "    .dataframe tbody tr th:only-of-type {\n",
       "        vertical-align: middle;\n",
       "    }\n",
       "\n",
       "    .dataframe tbody tr th {\n",
       "        vertical-align: top;\n",
       "    }\n",
       "\n",
       "    .dataframe thead th {\n",
       "        text-align: right;\n",
       "    }\n",
       "</style>\n",
       "<table border=\"1\" class=\"dataframe\">\n",
       "  <thead>\n",
       "    <tr style=\"text-align: right;\">\n",
       "      <th></th>\n",
       "      <th>age</th>\n",
       "      <th>bmi</th>\n",
       "      <th>children</th>\n",
       "      <th>charges</th>\n",
       "    </tr>\n",
       "  </thead>\n",
       "  <tbody>\n",
       "    <tr>\n",
       "      <th>count</th>\n",
       "      <td>1338.000000</td>\n",
       "      <td>1338.000000</td>\n",
       "      <td>1338.000000</td>\n",
       "      <td>1338.000000</td>\n",
       "    </tr>\n",
       "    <tr>\n",
       "      <th>mean</th>\n",
       "      <td>39.207025</td>\n",
       "      <td>30.663397</td>\n",
       "      <td>1.094918</td>\n",
       "      <td>13270.422265</td>\n",
       "    </tr>\n",
       "    <tr>\n",
       "      <th>std</th>\n",
       "      <td>14.049960</td>\n",
       "      <td>6.098187</td>\n",
       "      <td>1.205493</td>\n",
       "      <td>12110.011237</td>\n",
       "    </tr>\n",
       "    <tr>\n",
       "      <th>min</th>\n",
       "      <td>18.000000</td>\n",
       "      <td>15.960000</td>\n",
       "      <td>0.000000</td>\n",
       "      <td>1121.873900</td>\n",
       "    </tr>\n",
       "    <tr>\n",
       "      <th>25%</th>\n",
       "      <td>27.000000</td>\n",
       "      <td>26.296250</td>\n",
       "      <td>0.000000</td>\n",
       "      <td>4740.287150</td>\n",
       "    </tr>\n",
       "    <tr>\n",
       "      <th>50%</th>\n",
       "      <td>39.000000</td>\n",
       "      <td>30.400000</td>\n",
       "      <td>1.000000</td>\n",
       "      <td>9382.033000</td>\n",
       "    </tr>\n",
       "    <tr>\n",
       "      <th>75%</th>\n",
       "      <td>51.000000</td>\n",
       "      <td>34.693750</td>\n",
       "      <td>2.000000</td>\n",
       "      <td>16639.912515</td>\n",
       "    </tr>\n",
       "    <tr>\n",
       "      <th>max</th>\n",
       "      <td>64.000000</td>\n",
       "      <td>53.130000</td>\n",
       "      <td>5.000000</td>\n",
       "      <td>63770.428010</td>\n",
       "    </tr>\n",
       "  </tbody>\n",
       "</table>\n",
       "</div>"
      ],
      "text/plain": [
       "               age          bmi     children       charges\n",
       "count  1338.000000  1338.000000  1338.000000   1338.000000\n",
       "mean     39.207025    30.663397     1.094918  13270.422265\n",
       "std      14.049960     6.098187     1.205493  12110.011237\n",
       "min      18.000000    15.960000     0.000000   1121.873900\n",
       "25%      27.000000    26.296250     0.000000   4740.287150\n",
       "50%      39.000000    30.400000     1.000000   9382.033000\n",
       "75%      51.000000    34.693750     2.000000  16639.912515\n",
       "max      64.000000    53.130000     5.000000  63770.428010"
      ]
     },
     "execution_count": 4,
     "metadata": {},
     "output_type": "execute_result"
    }
   ],
   "source": [
    "df.describe()"
   ]
  },
  {
   "cell_type": "code",
   "execution_count": 5,
   "id": "1f2601e6",
   "metadata": {
    "execution": {
     "iopub.execute_input": "2023-04-23T11:29:47.895087Z",
     "iopub.status.busy": "2023-04-23T11:29:47.894388Z",
     "iopub.status.idle": "2023-04-23T11:29:47.909919Z",
     "shell.execute_reply": "2023-04-23T11:29:47.908693Z"
    },
    "papermill": {
     "duration": 0.03225,
     "end_time": "2023-04-23T11:29:47.912102",
     "exception": false,
     "start_time": "2023-04-23T11:29:47.879852",
     "status": "completed"
    },
    "tags": []
   },
   "outputs": [
    {
     "name": "stdout",
     "output_type": "stream",
     "text": [
      "<class 'pandas.core.frame.DataFrame'>\n",
      "RangeIndex: 1338 entries, 0 to 1337\n",
      "Data columns (total 7 columns):\n",
      " #   Column    Non-Null Count  Dtype  \n",
      "---  ------    --------------  -----  \n",
      " 0   age       1338 non-null   int64  \n",
      " 1   sex       1338 non-null   object \n",
      " 2   bmi       1338 non-null   float64\n",
      " 3   children  1338 non-null   int64  \n",
      " 4   smoker    1338 non-null   object \n",
      " 5   region    1338 non-null   object \n",
      " 6   charges   1338 non-null   float64\n",
      "dtypes: float64(2), int64(2), object(3)\n",
      "memory usage: 73.3+ KB\n"
     ]
    }
   ],
   "source": [
    "df.info()"
   ]
  },
  {
   "cell_type": "markdown",
   "id": "d7263e7e",
   "metadata": {
    "papermill": {
     "duration": 0.013369,
     "end_time": "2023-04-23T11:29:47.939095",
     "exception": false,
     "start_time": "2023-04-23T11:29:47.925726",
     "status": "completed"
    },
    "tags": []
   },
   "source": [
    "There's one duplicate that we can take care of, and there aren't any null values."
   ]
  },
  {
   "cell_type": "code",
   "execution_count": 6,
   "id": "1c1e94e3",
   "metadata": {
    "execution": {
     "iopub.execute_input": "2023-04-23T11:29:47.968296Z",
     "iopub.status.busy": "2023-04-23T11:29:47.967587Z",
     "iopub.status.idle": "2023-04-23T11:29:47.985415Z",
     "shell.execute_reply": "2023-04-23T11:29:47.984009Z"
    },
    "papermill": {
     "duration": 0.03483,
     "end_time": "2023-04-23T11:29:47.987721",
     "exception": false,
     "start_time": "2023-04-23T11:29:47.952891",
     "status": "completed"
    },
    "tags": []
   },
   "outputs": [
    {
     "data": {
      "text/html": [
       "<div>\n",
       "<style scoped>\n",
       "    .dataframe tbody tr th:only-of-type {\n",
       "        vertical-align: middle;\n",
       "    }\n",
       "\n",
       "    .dataframe tbody tr th {\n",
       "        vertical-align: top;\n",
       "    }\n",
       "\n",
       "    .dataframe thead th {\n",
       "        text-align: right;\n",
       "    }\n",
       "</style>\n",
       "<table border=\"1\" class=\"dataframe\">\n",
       "  <thead>\n",
       "    <tr style=\"text-align: right;\">\n",
       "      <th></th>\n",
       "      <th>age</th>\n",
       "      <th>sex</th>\n",
       "      <th>bmi</th>\n",
       "      <th>children</th>\n",
       "      <th>smoker</th>\n",
       "      <th>region</th>\n",
       "      <th>charges</th>\n",
       "    </tr>\n",
       "  </thead>\n",
       "  <tbody>\n",
       "    <tr>\n",
       "      <th>195</th>\n",
       "      <td>19</td>\n",
       "      <td>male</td>\n",
       "      <td>30.59</td>\n",
       "      <td>0</td>\n",
       "      <td>no</td>\n",
       "      <td>northwest</td>\n",
       "      <td>1639.5631</td>\n",
       "    </tr>\n",
       "    <tr>\n",
       "      <th>581</th>\n",
       "      <td>19</td>\n",
       "      <td>male</td>\n",
       "      <td>30.59</td>\n",
       "      <td>0</td>\n",
       "      <td>no</td>\n",
       "      <td>northwest</td>\n",
       "      <td>1639.5631</td>\n",
       "    </tr>\n",
       "  </tbody>\n",
       "</table>\n",
       "</div>"
      ],
      "text/plain": [
       "     age   sex    bmi  children smoker     region    charges\n",
       "195   19  male  30.59         0     no  northwest  1639.5631\n",
       "581   19  male  30.59         0     no  northwest  1639.5631"
      ]
     },
     "execution_count": 6,
     "metadata": {},
     "output_type": "execute_result"
    }
   ],
   "source": [
    "df[df.duplicated(keep=False)]"
   ]
  },
  {
   "cell_type": "code",
   "execution_count": 7,
   "id": "6e77f62d",
   "metadata": {
    "execution": {
     "iopub.execute_input": "2023-04-23T11:29:48.025632Z",
     "iopub.status.busy": "2023-04-23T11:29:48.024550Z",
     "iopub.status.idle": "2023-04-23T11:29:48.039737Z",
     "shell.execute_reply": "2023-04-23T11:29:48.038250Z"
    },
    "papermill": {
     "duration": 0.039037,
     "end_time": "2023-04-23T11:29:48.042279",
     "exception": false,
     "start_time": "2023-04-23T11:29:48.003242",
     "status": "completed"
    },
    "tags": []
   },
   "outputs": [
    {
     "name": "stdout",
     "output_type": "stream",
     "text": [
      "Number of duplicates:\n"
     ]
    },
    {
     "data": {
      "text/plain": [
       "0"
      ]
     },
     "execution_count": 7,
     "metadata": {},
     "output_type": "execute_result"
    }
   ],
   "source": [
    "df = df.drop_duplicates()\n",
    "print(\"Number of duplicates:\")\n",
    "df.duplicated().sum()"
   ]
  },
  {
   "cell_type": "code",
   "execution_count": 8,
   "id": "5c13540c",
   "metadata": {
    "execution": {
     "iopub.execute_input": "2023-04-23T11:29:48.084979Z",
     "iopub.status.busy": "2023-04-23T11:29:48.082513Z",
     "iopub.status.idle": "2023-04-23T11:29:48.096868Z",
     "shell.execute_reply": "2023-04-23T11:29:48.095449Z"
    },
    "papermill": {
     "duration": 0.035003,
     "end_time": "2023-04-23T11:29:48.099316",
     "exception": false,
     "start_time": "2023-04-23T11:29:48.064313",
     "status": "completed"
    },
    "tags": []
   },
   "outputs": [
    {
     "data": {
      "text/plain": [
       "age         0\n",
       "sex         0\n",
       "bmi         0\n",
       "children    0\n",
       "smoker      0\n",
       "region      0\n",
       "charges     0\n",
       "dtype: int64"
      ]
     },
     "execution_count": 8,
     "metadata": {},
     "output_type": "execute_result"
    }
   ],
   "source": [
    "df.isna().sum()"
   ]
  },
  {
   "cell_type": "code",
   "execution_count": 9,
   "id": "b2c33ad6",
   "metadata": {
    "execution": {
     "iopub.execute_input": "2023-04-23T11:29:48.129834Z",
     "iopub.status.busy": "2023-04-23T11:29:48.129369Z",
     "iopub.status.idle": "2023-04-23T11:29:48.137125Z",
     "shell.execute_reply": "2023-04-23T11:29:48.135978Z"
    },
    "papermill": {
     "duration": 0.025571,
     "end_time": "2023-04-23T11:29:48.139239",
     "exception": false,
     "start_time": "2023-04-23T11:29:48.113668",
     "status": "completed"
    },
    "tags": []
   },
   "outputs": [
    {
     "data": {
      "text/plain": [
       "Index(['age', 'sex', 'bmi', 'children', 'smoker', 'region', 'charges'], dtype='object')"
      ]
     },
     "execution_count": 9,
     "metadata": {},
     "output_type": "execute_result"
    }
   ],
   "source": [
    "df.columns"
   ]
  },
  {
   "cell_type": "code",
   "execution_count": 10,
   "id": "306daddd",
   "metadata": {
    "execution": {
     "iopub.execute_input": "2023-04-23T11:29:48.169295Z",
     "iopub.status.busy": "2023-04-23T11:29:48.168511Z",
     "iopub.status.idle": "2023-04-23T11:29:48.353217Z",
     "shell.execute_reply": "2023-04-23T11:29:48.351526Z"
    },
    "papermill": {
     "duration": 0.204955,
     "end_time": "2023-04-23T11:29:48.358082",
     "exception": false,
     "start_time": "2023-04-23T11:29:48.153127",
     "status": "completed"
    },
    "tags": []
   },
   "outputs": [
    {
     "data": {
      "text/plain": [
       "Text(0.5, 1.0, 'Male vs Female Percentage')"
      ]
     },
     "execution_count": 10,
     "metadata": {},
     "output_type": "execute_result"
    },
    {
     "data": {
      "image/png": "[encoded data removed]",
      "text/plain": [
       "<Figure size 640x480 with 1 Axes>"
      ]
     },
     "metadata": {},
     "output_type": "display_data"
    }
   ],
   "source": [
    "s = df['sex'].value_counts()\n",
    "plt.pie(s, labels = s.index, autopct='%1.1f%%', shadow=True)\n",
    "plt.title(\"Male vs Female Percentage\")"
   ]
  },
  {
   "cell_type": "markdown",
   "id": "c39154be",
   "metadata": {
    "papermill": {
     "duration": 0.014564,
     "end_time": "2023-04-23T11:29:48.410820",
     "exception": false,
     "start_time": "2023-04-23T11:29:48.396256",
     "status": "completed"
    },
    "tags": []
   },
   "source": [
    "This data is comprised of 50.5% males and 49.5% females."
   ]
  },
  {
   "cell_type": "code",
   "execution_count": 11,
   "id": "60929519",
   "metadata": {
    "execution": {
     "iopub.execute_input": "2023-04-23T11:29:48.442018Z",
     "iopub.status.busy": "2023-04-23T11:29:48.441632Z",
     "iopub.status.idle": "2023-04-23T11:29:48.760593Z",
     "shell.execute_reply": "2023-04-23T11:29:48.759478Z"
    },
    "papermill": {
     "duration": 0.337658,
     "end_time": "2023-04-23T11:29:48.763279",
     "exception": false,
     "start_time": "2023-04-23T11:29:48.425621",
     "status": "completed"
    },
    "tags": []
   },
   "outputs": [
    {
     "data": {
      "text/plain": [
       "Text(0.5, 1.0, 'Age Distribution')"
      ]
     },
     "execution_count": 11,
     "metadata": {},
     "output_type": "execute_result"
    },
    {
     "data": {
      "image/png": "[encoded data removed]",
      "text/plain": [
       "<Figure size 640x480 with 1 Axes>"
      ]
     },
     "metadata": {},
     "output_type": "display_data"
    }
   ],
   "source": [
    "sns.histplot(data=df, x='age', bins=40)\n",
    "plt.title(\"Age Distribution\")"
   ]
  },
  {
   "cell_type": "markdown",
   "id": "bebd91b4",
   "metadata": {
    "papermill": {
     "duration": 0.01521,
     "end_time": "2023-04-23T11:29:48.794502",
     "exception": false,
     "start_time": "2023-04-23T11:29:48.779292",
     "status": "completed"
    },
    "tags": []
   },
   "source": [
    "This dataset has a particularly high amount of individuals around the age of 20."
   ]
  },
  {
   "cell_type": "markdown",
   "id": "32eddb3e",
   "metadata": {
    "papermill": {
     "duration": 0.015104,
     "end_time": "2023-04-23T11:29:48.824852",
     "exception": false,
     "start_time": "2023-04-23T11:29:48.809748",
     "status": "completed"
    },
    "tags": []
   },
   "source": [
    "# Analysis\n",
    "Below I'll examine the relationship between BMI, smoking status, and charges."
   ]
  },
  {
   "cell_type": "markdown",
   "id": "48e93bb1",
   "metadata": {
    "papermill": {
     "duration": 0.015267,
     "end_time": "2023-04-23T11:29:48.855599",
     "exception": false,
     "start_time": "2023-04-23T11:29:48.840332",
     "status": "completed"
    },
    "tags": []
   },
   "source": [
    "## Analysis of BMI and Charges\n",
    "Let's dive deeper into understanding and visualizing this data. Below, I'll specify weight classes based on BMI to take a further look at how weight affects charges. I'll do this with a conditions list and np.select.\n",
    "My prediction is that individuals in the \"normal\" category will pay the least, whereas underweight, overweight, and obese individuals will pay the most, with charges ascending in that order. "
   ]
  },
  {
   "cell_type": "code",
   "execution_count": 12,
   "id": "2795d612",
   "metadata": {
    "execution": {
     "iopub.execute_input": "2023-04-23T11:29:48.889272Z",
     "iopub.status.busy": "2023-04-23T11:29:48.888801Z",
     "iopub.status.idle": "2023-04-23T11:29:48.910052Z",
     "shell.execute_reply": "2023-04-23T11:29:48.908916Z"
    },
    "papermill": {
     "duration": 0.041162,
     "end_time": "2023-04-23T11:29:48.912379",
     "exception": false,
     "start_time": "2023-04-23T11:29:48.871217",
     "status": "completed"
    },
    "tags": []
   },
   "outputs": [
    {
     "data": {
      "text/html": [
       "<div>\n",
       "<style scoped>\n",
       "    .dataframe tbody tr th:only-of-type {\n",
       "        vertical-align: middle;\n",
       "    }\n",
       "\n",
       "    .dataframe tbody tr th {\n",
       "        vertical-align: top;\n",
       "    }\n",
       "\n",
       "    .dataframe thead th {\n",
       "        text-align: right;\n",
       "    }\n",
       "</style>\n",
       "<table border=\"1\" class=\"dataframe\">\n",
       "  <thead>\n",
       "    <tr style=\"text-align: right;\">\n",
       "      <th></th>\n",
       "      <th>age</th>\n",
       "      <th>sex</th>\n",
       "      <th>bmi</th>\n",
       "      <th>children</th>\n",
       "      <th>smoker</th>\n",
       "      <th>region</th>\n",
       "      <th>charges</th>\n",
       "      <th>bmi_cat</th>\n",
       "    </tr>\n",
       "  </thead>\n",
       "  <tbody>\n",
       "    <tr>\n",
       "      <th>0</th>\n",
       "      <td>19</td>\n",
       "      <td>female</td>\n",
       "      <td>27.900</td>\n",
       "      <td>0</td>\n",
       "      <td>yes</td>\n",
       "      <td>southwest</td>\n",
       "      <td>16884.92400</td>\n",
       "      <td>overweight</td>\n",
       "    </tr>\n",
       "    <tr>\n",
       "      <th>1</th>\n",
       "      <td>18</td>\n",
       "      <td>male</td>\n",
       "      <td>33.770</td>\n",
       "      <td>1</td>\n",
       "      <td>no</td>\n",
       "      <td>southeast</td>\n",
       "      <td>1725.55230</td>\n",
       "      <td>obese</td>\n",
       "    </tr>\n",
       "    <tr>\n",
       "      <th>2</th>\n",
       "      <td>28</td>\n",
       "      <td>male</td>\n",
       "      <td>33.000</td>\n",
       "      <td>3</td>\n",
       "      <td>no</td>\n",
       "      <td>southeast</td>\n",
       "      <td>4449.46200</td>\n",
       "      <td>obese</td>\n",
       "    </tr>\n",
       "    <tr>\n",
       "      <th>3</th>\n",
       "      <td>33</td>\n",
       "      <td>male</td>\n",
       "      <td>22.705</td>\n",
       "      <td>0</td>\n",
       "      <td>no</td>\n",
       "      <td>northwest</td>\n",
       "      <td>21984.47061</td>\n",
       "      <td>normal</td>\n",
       "    </tr>\n",
       "    <tr>\n",
       "      <th>4</th>\n",
       "      <td>32</td>\n",
       "      <td>male</td>\n",
       "      <td>28.880</td>\n",
       "      <td>0</td>\n",
       "      <td>no</td>\n",
       "      <td>northwest</td>\n",
       "      <td>3866.85520</td>\n",
       "      <td>overweight</td>\n",
       "    </tr>\n",
       "    <tr>\n",
       "      <th>5</th>\n",
       "      <td>31</td>\n",
       "      <td>female</td>\n",
       "      <td>25.740</td>\n",
       "      <td>0</td>\n",
       "      <td>no</td>\n",
       "      <td>southeast</td>\n",
       "      <td>3756.62160</td>\n",
       "      <td>overweight</td>\n",
       "    </tr>\n",
       "    <tr>\n",
       "      <th>6</th>\n",
       "      <td>46</td>\n",
       "      <td>female</td>\n",
       "      <td>33.440</td>\n",
       "      <td>1</td>\n",
       "      <td>no</td>\n",
       "      <td>southeast</td>\n",
       "      <td>8240.58960</td>\n",
       "      <td>obese</td>\n",
       "    </tr>\n",
       "    <tr>\n",
       "      <th>7</th>\n",
       "      <td>37</td>\n",
       "      <td>female</td>\n",
       "      <td>27.740</td>\n",
       "      <td>3</td>\n",
       "      <td>no</td>\n",
       "      <td>northwest</td>\n",
       "      <td>7281.50560</td>\n",
       "      <td>overweight</td>\n",
       "    </tr>\n",
       "    <tr>\n",
       "      <th>8</th>\n",
       "      <td>37</td>\n",
       "      <td>male</td>\n",
       "      <td>29.830</td>\n",
       "      <td>2</td>\n",
       "      <td>no</td>\n",
       "      <td>northeast</td>\n",
       "      <td>6406.41070</td>\n",
       "      <td>overweight</td>\n",
       "    </tr>\n",
       "    <tr>\n",
       "      <th>9</th>\n",
       "      <td>60</td>\n",
       "      <td>female</td>\n",
       "      <td>25.840</td>\n",
       "      <td>0</td>\n",
       "      <td>no</td>\n",
       "      <td>northwest</td>\n",
       "      <td>28923.13692</td>\n",
       "      <td>overweight</td>\n",
       "    </tr>\n",
       "  </tbody>\n",
       "</table>\n",
       "</div>"
      ],
      "text/plain": [
       "   age     sex     bmi  children smoker     region      charges     bmi_cat\n",
       "0   19  female  27.900         0    yes  southwest  16884.92400  overweight\n",
       "1   18    male  33.770         1     no  southeast   1725.55230       obese\n",
       "2   28    male  33.000         3     no  southeast   4449.46200       obese\n",
       "3   33    male  22.705         0     no  northwest  21984.47061      normal\n",
       "4   32    male  28.880         0     no  northwest   3866.85520  overweight\n",
       "5   31  female  25.740         0     no  southeast   3756.62160  overweight\n",
       "6   46  female  33.440         1     no  southeast   8240.58960       obese\n",
       "7   37  female  27.740         3     no  northwest   7281.50560  overweight\n",
       "8   37    male  29.830         2     no  northeast   6406.41070  overweight\n",
       "9   60  female  25.840         0     no  northwest  28923.13692  overweight"
      ]
     },
     "execution_count": 12,
     "metadata": {},
     "output_type": "execute_result"
    }
   ],
   "source": [
    "bmi = df[\"bmi\"]\n",
    "\n",
    "cond_list = [bmi < 18.5, bmi < 25, bmi < 30, bmi >= 30]\n",
    "choice_list = ['underweight', 'normal', 'overweight', 'obese']\n",
    "\n",
    "df[\"bmi_cat\"] = np.select(cond_list, choice_list)\n",
    "df.head(10)"
   ]
  },
  {
   "cell_type": "code",
   "execution_count": 13,
   "id": "59585b96",
   "metadata": {
    "execution": {
     "iopub.execute_input": "2023-04-23T11:29:48.946796Z",
     "iopub.status.busy": "2023-04-23T11:29:48.945948Z",
     "iopub.status.idle": "2023-04-23T11:29:49.180834Z",
     "shell.execute_reply": "2023-04-23T11:29:49.179681Z"
    },
    "papermill": {
     "duration": 0.255052,
     "end_time": "2023-04-23T11:29:49.183324",
     "exception": false,
     "start_time": "2023-04-23T11:29:48.928272",
     "status": "completed"
    },
    "tags": []
   },
   "outputs": [
    {
     "data": {
      "text/plain": [
       "Text(0, 0.5, 'Charges')"
      ]
     },
     "execution_count": 13,
     "metadata": {},
     "output_type": "execute_result"
    },
    {
     "data": {
      "image/png": "[encoded data removed]",
      "text/plain": [
       "<Figure size 640x480 with 1 Axes>"
      ]
     },
     "metadata": {},
     "output_type": "display_data"
    }
   ],
   "source": [
    "#Making it pretty\n",
    "palette = sns.color_palette(\"pastel\")\n",
    "sns.set_palette(palette)\n",
    "\n",
    "#Create plot\n",
    "sns.barplot(data=df, x='bmi_cat', y='charges', order=['underweight', 'normal', 'overweight', 'obese'])\n",
    "plt.title('Charges by BMI Class')\n",
    "plt.xlabel('BMI category')\n",
    "plt.ylabel('Charges')"
   ]
  },
  {
   "cell_type": "markdown",
   "id": "00d9bf7f",
   "metadata": {
    "papermill": {
     "duration": 0.016127,
     "end_time": "2023-04-23T11:29:49.216266",
     "exception": false,
     "start_time": "2023-04-23T11:29:49.200139",
     "status": "completed"
    },
    "tags": []
   },
   "source": [
    "**Insights**: The prediction was incorrect - underweight people appear to pay even less than individuals in the normal category. Overweight people pay slightly more than those of an average weight, and obese individuals pay much more. How much more do they pay exactly?"
   ]
  },
  {
   "cell_type": "code",
   "execution_count": 14,
   "id": "ed3cdb7e",
   "metadata": {
    "execution": {
     "iopub.execute_input": "2023-04-23T11:29:49.251302Z",
     "iopub.status.busy": "2023-04-23T11:29:49.250211Z",
     "iopub.status.idle": "2023-04-23T11:29:49.258485Z",
     "shell.execute_reply": "2023-04-23T11:29:49.256697Z"
    },
    "papermill": {
     "duration": 0.028619,
     "end_time": "2023-04-23T11:29:49.261026",
     "exception": false,
     "start_time": "2023-04-23T11:29:49.232407",
     "status": "completed"
    },
    "tags": []
   },
   "outputs": [
    {
     "name": "stdout",
     "output_type": "stream",
     "text": [
      "bmi_cat\n",
      "normal         10409.337709\n",
      "obese          15572.041945\n",
      "overweight     10987.509891\n",
      "underweight     8852.200585\n",
      "Name: charges, dtype: float64\n"
     ]
    }
   ],
   "source": [
    "charges_by_cat = df.groupby('bmi_cat').charges.mean()\n",
    "print(charges_by_cat)"
   ]
  },
  {
   "cell_type": "markdown",
   "id": "2739483b",
   "metadata": {
    "papermill": {
     "duration": 0.016187,
     "end_time": "2023-04-23T11:29:49.293847",
     "exception": false,
     "start_time": "2023-04-23T11:29:49.277660",
     "status": "completed"
    },
    "tags": []
   },
   "source": [
    "Overweight people pay almost 600 dollars more, and about 5.5 percent more than those of an average weight. Obese individuals pay almost 5200 dollars more, an increase of 49.6 percent! How does an individual's region interact with their charges?"
   ]
  },
  {
   "cell_type": "markdown",
   "id": "45899aeb",
   "metadata": {
    "papermill": {
     "duration": 0.015633,
     "end_time": "2023-04-23T11:29:49.326105",
     "exception": false,
     "start_time": "2023-04-23T11:29:49.310472",
     "status": "completed"
    },
    "tags": []
   },
   "source": [
    "## Analysis of Region and Charges"
   ]
  },
  {
   "cell_type": "code",
   "execution_count": 15,
   "id": "8868ddce",
   "metadata": {
    "execution": {
     "iopub.execute_input": "2023-04-23T11:29:49.360629Z",
     "iopub.status.busy": "2023-04-23T11:29:49.359528Z",
     "iopub.status.idle": "2023-04-23T11:29:49.671476Z",
     "shell.execute_reply": "2023-04-23T11:29:49.670239Z"
    },
    "papermill": {
     "duration": 0.332116,
     "end_time": "2023-04-23T11:29:49.674031",
     "exception": false,
     "start_time": "2023-04-23T11:29:49.341915",
     "status": "completed"
    },
    "tags": []
   },
   "outputs": [
    {
     "data": {
      "text/plain": [
       "Text(0, 0.5, 'Charges')"
      ]
     },
     "execution_count": 15,
     "metadata": {},
     "output_type": "execute_result"
    },
    {
     "data": {
      "image/png": "[encoded data removed]",
      "text/plain": [
       "<Figure size 640x480 with 1 Axes>"
      ]
     },
     "metadata": {},
     "output_type": "display_data"
    }
   ],
   "source": [
    "#Making it pretty\n",
    "sns.set_palette(palette)\n",
    "#Create plot\n",
    "sns.barplot(x=df['region'], y=df['charges'], hue=df['bmi_cat'], )\n",
    "plt.legend(bbox_to_anchor=(1.05, 1.0), loc='upper left')\n",
    "plt.xlabel(\"Region\")\n",
    "plt.ylabel(\"Charges\")"
   ]
  },
  {
   "cell_type": "markdown",
   "id": "e09d252f",
   "metadata": {
    "papermill": {
     "duration": 0.01713,
     "end_time": "2023-04-23T11:29:49.708963",
     "exception": false,
     "start_time": "2023-04-23T11:29:49.691833",
     "status": "completed"
    },
    "tags": []
   },
   "source": [
    "The southeast underweight category does not seem to be represented - is this because there were no reported cases in the dataset, or has there been an error? "
   ]
  },
  {
   "cell_type": "code",
   "execution_count": 16,
   "id": "7cbc18ab",
   "metadata": {
    "execution": {
     "iopub.execute_input": "2023-04-23T11:29:49.745705Z",
     "iopub.status.busy": "2023-04-23T11:29:49.744876Z",
     "iopub.status.idle": "2023-04-23T11:29:49.760328Z",
     "shell.execute_reply": "2023-04-23T11:29:49.759467Z"
    },
    "papermill": {
     "duration": 0.036315,
     "end_time": "2023-04-23T11:29:49.762444",
     "exception": false,
     "start_time": "2023-04-23T11:29:49.726129",
     "status": "completed"
    },
    "tags": []
   },
   "outputs": [
    {
     "data": {
      "text/html": [
       "<div>\n",
       "<style scoped>\n",
       "    .dataframe tbody tr th:only-of-type {\n",
       "        vertical-align: middle;\n",
       "    }\n",
       "\n",
       "    .dataframe tbody tr th {\n",
       "        vertical-align: top;\n",
       "    }\n",
       "\n",
       "    .dataframe thead th {\n",
       "        text-align: right;\n",
       "    }\n",
       "</style>\n",
       "<table border=\"1\" class=\"dataframe\">\n",
       "  <thead>\n",
       "    <tr style=\"text-align: right;\">\n",
       "      <th></th>\n",
       "      <th>age</th>\n",
       "      <th>sex</th>\n",
       "      <th>bmi</th>\n",
       "      <th>children</th>\n",
       "      <th>smoker</th>\n",
       "      <th>region</th>\n",
       "      <th>charges</th>\n",
       "      <th>bmi_cat</th>\n",
       "    </tr>\n",
       "  </thead>\n",
       "  <tbody>\n",
       "  </tbody>\n",
       "</table>\n",
       "</div>"
      ],
      "text/plain": [
       "Empty DataFrame\n",
       "Columns: [age, sex, bmi, children, smoker, region, charges, bmi_cat]\n",
       "Index: []"
      ]
     },
     "execution_count": 16,
     "metadata": {},
     "output_type": "execute_result"
    }
   ],
   "source": [
    "df.query('bmi < 18.5 and region == \"southeast\"')"
   ]
  },
  {
   "cell_type": "code",
   "execution_count": 17,
   "id": "5f78f2b3",
   "metadata": {
    "execution": {
     "iopub.execute_input": "2023-04-23T11:29:49.799966Z",
     "iopub.status.busy": "2023-04-23T11:29:49.799588Z",
     "iopub.status.idle": "2023-04-23T11:29:49.807898Z",
     "shell.execute_reply": "2023-04-23T11:29:49.807012Z"
    },
    "papermill": {
     "duration": 0.029447,
     "end_time": "2023-04-23T11:29:49.809926",
     "exception": false,
     "start_time": "2023-04-23T11:29:49.780479",
     "status": "completed"
    },
    "tags": []
   },
   "outputs": [
    {
     "data": {
      "text/plain": [
       "0"
      ]
     },
     "execution_count": 17,
     "metadata": {},
     "output_type": "execute_result"
    }
   ],
   "source": [
    "len(df[(df['region']=='southeast') & (df['bmi_cat']=='underweight')])"
   ]
  },
  {
   "cell_type": "markdown",
   "id": "fb193627",
   "metadata": {
    "papermill": {
     "duration": 0.016592,
     "end_time": "2023-04-23T11:29:49.843714",
     "exception": false,
     "start_time": "2023-04-23T11:29:49.827122",
     "status": "completed"
    },
    "tags": []
   },
   "source": [
    "This does not appear to be an error - the southeast has no representation in the underweight category."
   ]
  },
  {
   "cell_type": "code",
   "execution_count": 18,
   "id": "72fa116b",
   "metadata": {
    "execution": {
     "iopub.execute_input": "2023-04-23T11:29:49.880342Z",
     "iopub.status.busy": "2023-04-23T11:29:49.879937Z",
     "iopub.status.idle": "2023-04-23T11:29:50.141193Z",
     "shell.execute_reply": "2023-04-23T11:29:50.140018Z"
    },
    "papermill": {
     "duration": 0.282942,
     "end_time": "2023-04-23T11:29:50.144150",
     "exception": false,
     "start_time": "2023-04-23T11:29:49.861208",
     "status": "completed"
    },
    "tags": []
   },
   "outputs": [
    {
     "data": {
      "text/plain": [
       "Text(0.5, 1.0, 'BMI by Region')"
      ]
     },
     "execution_count": 18,
     "metadata": {},
     "output_type": "execute_result"
    },
    {
     "data": {
      "image/png": "[encoded data removed]",
      "text/plain": [
       "<Figure size 640x480 with 1 Axes>"
      ]
     },
     "metadata": {},
     "output_type": "display_data"
    }
   ],
   "source": [
    "sns.set_palette(palette)\n",
    "sns.boxplot(x = 'region', y = 'bmi', data = df)\n",
    "plt.title(\"BMI by Region\")"
   ]
  },
  {
   "cell_type": "markdown",
   "id": "a455482c",
   "metadata": {
    "papermill": {
     "duration": 0.018619,
     "end_time": "2023-04-23T11:29:50.181520",
     "exception": false,
     "start_time": "2023-04-23T11:29:50.162901",
     "status": "completed"
    },
    "tags": []
   },
   "source": [
    "Region doesn't seem to make a drastic difference in the amount of people in each BMI category, but the southeast has the highest median BMI. Does the southeast happen to have the most smokers as well?"
   ]
  },
  {
   "cell_type": "code",
   "execution_count": 19,
   "id": "57036844",
   "metadata": {
    "execution": {
     "iopub.execute_input": "2023-04-23T11:29:50.220436Z",
     "iopub.status.busy": "2023-04-23T11:29:50.219770Z",
     "iopub.status.idle": "2023-04-23T11:29:50.494758Z",
     "shell.execute_reply": "2023-04-23T11:29:50.493502Z"
    },
    "papermill": {
     "duration": 0.29757,
     "end_time": "2023-04-23T11:29:50.497443",
     "exception": false,
     "start_time": "2023-04-23T11:29:50.199873",
     "status": "completed"
    },
    "tags": []
   },
   "outputs": [
    {
     "data": {
      "text/plain": [
       "Text(0, 0.5, 'Amount of Smokers')"
      ]
     },
     "execution_count": 19,
     "metadata": {},
     "output_type": "execute_result"
    },
    {
     "data": {
      "image/png": "[encoded data removed]",
      "text/plain": [
       "<Figure size 640x480 with 1 Axes>"
      ]
     },
     "metadata": {},
     "output_type": "display_data"
    }
   ],
   "source": [
    "sns.set_palette(palette)\n",
    "smokercount = df.groupby('region').smoker.count().plot(kind=\"bar\")\n",
    "plt.title(\"Amount of Smokers by Region\")\n",
    "plt.xlabel(\"Region\")\n",
    "plt.ylabel(\"Amount of Smokers\")"
   ]
  },
  {
   "cell_type": "markdown",
   "id": "1d71786d",
   "metadata": {
    "papermill": {
     "duration": 0.01825,
     "end_time": "2023-04-23T11:29:50.534361",
     "exception": false,
     "start_time": "2023-04-23T11:29:50.516111",
     "status": "completed"
    },
    "tags": []
   },
   "source": [
    "The southeast indeed seems to have the most smokers."
   ]
  },
  {
   "cell_type": "code",
   "execution_count": 20,
   "id": "4a9d7894",
   "metadata": {
    "execution": {
     "iopub.execute_input": "2023-04-23T11:29:50.573767Z",
     "iopub.status.busy": "2023-04-23T11:29:50.573006Z",
     "iopub.status.idle": "2023-04-23T11:29:50.847573Z",
     "shell.execute_reply": "2023-04-23T11:29:50.846381Z"
    },
    "papermill": {
     "duration": 0.297794,
     "end_time": "2023-04-23T11:29:50.850361",
     "exception": false,
     "start_time": "2023-04-23T11:29:50.552567",
     "status": "completed"
    },
    "tags": []
   },
   "outputs": [
    {
     "data": {
      "text/plain": [
       "Text(0, 0.5, 'Charges')"
      ]
     },
     "execution_count": 20,
     "metadata": {},
     "output_type": "execute_result"
    },
    {
     "data": {
      "image/png": "[encoded data removed]",
      "text/plain": [
       "<Figure size 640x480 with 1 Axes>"
      ]
     },
     "metadata": {},
     "output_type": "display_data"
    }
   ],
   "source": [
    "sns.barplot(x=df['region'], y=df['charges'], hue=df['smoker'],)\n",
    "plt.title(\"Charges per Region, Smoker vs Non-smoker\")\n",
    "plt.xlabel(\"Region\")\n",
    "plt.ylabel(\"Charges\")"
   ]
  },
  {
   "cell_type": "markdown",
   "id": "6f8018b8",
   "metadata": {
    "papermill": {
     "duration": 0.018865,
     "end_time": "2023-04-23T11:29:50.888981",
     "exception": false,
     "start_time": "2023-04-23T11:29:50.870116",
     "status": "completed"
    },
    "tags": []
   },
   "source": [
    "The southeast has the most smokers and is leading in charges for them."
   ]
  },
  {
   "cell_type": "markdown",
   "id": "2989dd20",
   "metadata": {
    "papermill": {
     "duration": 0.019006,
     "end_time": "2023-04-23T11:29:50.926773",
     "exception": false,
     "start_time": "2023-04-23T11:29:50.907767",
     "status": "completed"
    },
    "tags": []
   },
   "source": [
    "## Analysis of Smoking + BMI Category and Charges\n",
    "As seen below, the average charge for smokers is 32,050 dollars, while the average charge for non-smokers is 8,440 dollars. What do charges look like when factoring in both BMI categories and smoking status?"
   ]
  },
  {
   "cell_type": "code",
   "execution_count": 21,
   "id": "69bd3bb1",
   "metadata": {
    "execution": {
     "iopub.execute_input": "2023-04-23T11:29:50.967383Z",
     "iopub.status.busy": "2023-04-23T11:29:50.966634Z",
     "iopub.status.idle": "2023-04-23T11:29:50.974948Z",
     "shell.execute_reply": "2023-04-23T11:29:50.973570Z"
    },
    "papermill": {
     "duration": 0.031487,
     "end_time": "2023-04-23T11:29:50.977463",
     "exception": false,
     "start_time": "2023-04-23T11:29:50.945976",
     "status": "completed"
    },
    "tags": []
   },
   "outputs": [
    {
     "name": "stdout",
     "output_type": "stream",
     "text": [
      "smoker\n",
      "no      8440.660307\n",
      "yes    32050.231832\n",
      "Name: charges, dtype: float64\n"
     ]
    }
   ],
   "source": [
    "charges_by_smoker = df.groupby('smoker').charges.mean()\n",
    "print(charges_by_smoker)"
   ]
  },
  {
   "cell_type": "code",
   "execution_count": 22,
   "id": "f7a3303d",
   "metadata": {
    "execution": {
     "iopub.execute_input": "2023-04-23T11:29:51.019222Z",
     "iopub.status.busy": "2023-04-23T11:29:51.018795Z",
     "iopub.status.idle": "2023-04-23T11:29:51.426658Z",
     "shell.execute_reply": "2023-04-23T11:29:51.425734Z"
    },
    "papermill": {
     "duration": 0.432784,
     "end_time": "2023-04-23T11:29:51.430114",
     "exception": false,
     "start_time": "2023-04-23T11:29:50.997330",
     "status": "completed"
    },
    "tags": []
   },
   "outputs": [
    {
     "data": {
      "text/plain": [
       "Text(0, 0.5, 'Charges')"
      ]
     },
     "execution_count": 22,
     "metadata": {},
     "output_type": "execute_result"
    },
    {
     "data": {
      "image/png": "[encoded data removed]",
      "text/plain": [
       "<Figure size 640x480 with 1 Axes>"
      ]
     },
     "metadata": {},
     "output_type": "display_data"
    }
   ],
   "source": [
    "# Set the color palette\n",
    "sns.set_palette(palette)\n",
    "\n",
    "# Create a scatter plot\n",
    "fig = sns.scatterplot(data=df, x='bmi', y='charges', hue='smoker')\n",
    "\n",
    "# Set the title and axis labels\n",
    "plt.title(\"BMI and Smoking Status vs Charges\")\n",
    "plt.xlabel(\"BMI\")\n",
    "plt.ylabel(\"Charges\")"
   ]
  },
  {
   "cell_type": "code",
   "execution_count": 23,
   "id": "288fa002",
   "metadata": {},
   "outputs": [
    {
     "name": "stdout",
     "output_type": "stream",
     "text": [
      "<class 'pandas.core.frame.DataFrame'>\n",
      "Int64Index: 1337 entries, 0 to 1337\n",
      "Data columns (total 8 columns):\n",
      " #   Column    Non-Null Count  Dtype  \n",
      "---  ------    --------------  -----  \n",
      " 0   age       1337 non-null   int64  \n",
      " 1   sex       1337 non-null   object \n",
      " 2   bmi       1337 non-null   float64\n",
      " 3   children  1337 non-null   int64  \n",
      " 4   smoker    1337 non-null   object \n",
      " 5   region    1337 non-null   object \n",
      " 6   charges   1337 non-null   float64\n",
      " 7   bmi_cat   1337 non-null   object \n",
      "dtypes: float64(2), int64(2), object(4)\n",
      "memory usage: 126.3+ KB\n"
     ]
    }
   ],
   "source": [
    "df.info()"
   ]
  },
  {
   "cell_type": "markdown",
   "id": "295fd603",
   "metadata": {
    "papermill": {
     "duration": 0.021135,
     "end_time": "2023-04-23T11:29:51.473607",
     "exception": false,
     "start_time": "2023-04-23T11:29:51.452472",
     "status": "completed"
    },
    "tags": []
   },
   "source": [
    "Charges increase drastically according to smoking status - smokers start off at a much higher level."
   ]
  },
  {
   "cell_type": "code",
   "execution_count": 24,
   "id": "e297242e",
   "metadata": {
    "execution": {
     "iopub.execute_input": "2023-04-23T11:29:51.520817Z",
     "iopub.status.busy": "2023-04-23T11:29:51.519938Z",
     "iopub.status.idle": "2023-04-23T11:29:51.943319Z",
     "shell.execute_reply": "2023-04-23T11:29:51.942382Z"
    },
    "papermill": {
     "duration": 0.449964,
     "end_time": "2023-04-23T11:29:51.945686",
     "exception": false,
     "start_time": "2023-04-23T11:29:51.495722",
     "status": "completed"
    },
    "tags": []
   },
   "outputs": [
    {
     "data": {
      "text/plain": [
       "Text(53.37951388888888, 0.5, 'Charges')"
      ]
     },
     "execution_count": 24,
     "metadata": {},
     "output_type": "execute_result"
    },
    {
     "data": {
      "image/png": "[encoded data removed]",
      "text/plain": [
       "<Figure size 637.5x500 with 1 Axes>"
      ]
     },
     "metadata": {},
     "output_type": "display_data"
    }
   ],
   "source": [
    "#Making it pretty\n",
    "cwpalette = sns.color_palette(\"coolwarm\")\n",
    "sns.set_palette(cwpalette)\n",
    "\n",
    "#Create plot\n",
    "sns.catplot(data=df,y='charges', x='smoker', hue='bmi_cat', kind='bar', )\n",
    "plt.title(\"Smoking and BMI Category vs Charges\")\n",
    "plt.xlabel('Smoker')\n",
    "plt.ylabel('Charges')"
   ]
  },
  {
   "cell_type": "markdown",
   "id": "d4c3ace5",
   "metadata": {
    "papermill": {
     "duration": 0.023445,
     "end_time": "2023-04-23T11:29:51.993409",
     "exception": false,
     "start_time": "2023-04-23T11:29:51.969964",
     "status": "completed"
    },
    "tags": []
   },
   "source": [
    "**Insights**: Smokers clearly have much higher charges than non-smokers. As we can predict from the analysis of BMI category and charges, obese smokers have the highest charges by far."
   ]
  },
  {
   "cell_type": "markdown",
   "id": "085eb137",
   "metadata": {
    "papermill": {
     "duration": 0.023653,
     "end_time": "2023-04-23T11:29:52.041348",
     "exception": false,
     "start_time": "2023-04-23T11:29:52.017695",
     "status": "completed"
    },
    "tags": []
   },
   "source": [
    "## Analysis Summary\n",
    "Charges rise following BMI category, with underweight individuals paying the least and obese individuals paying almost 50% more. These charges rise even higher if the individual is a smoker, and obese smokers have the highest charges of any group."
   ]
  },
  {
   "cell_type": "markdown",
   "id": "132005ea",
   "metadata": {
    "papermill": {
     "duration": 0.023945,
     "end_time": "2023-04-23T11:29:52.089672",
     "exception": false,
     "start_time": "2023-04-23T11:29:52.065727",
     "status": "completed"
    },
    "tags": []
   },
   "source": [
    "## Prediction Prep"
   ]
  },
  {
   "cell_type": "code",
   "execution_count": 25,
   "id": "43b867ab",
   "metadata": {
    "execution": {
     "iopub.execute_input": "2023-04-23T11:29:52.139999Z",
     "iopub.status.busy": "2023-04-23T11:29:52.139361Z",
     "iopub.status.idle": "2023-04-23T11:29:52.145897Z",
     "shell.execute_reply": "2023-04-23T11:29:52.144850Z"
    },
    "papermill": {
     "duration": 0.034202,
     "end_time": "2023-04-23T11:29:52.148001",
     "exception": false,
     "start_time": "2023-04-23T11:29:52.113799",
     "status": "completed"
    },
    "tags": []
   },
   "outputs": [
    {
     "data": {
      "text/plain": [
       "Index(['age', 'sex', 'bmi', 'children', 'smoker', 'region', 'charges',\n",
       "       'bmi_cat'],\n",
       "      dtype='object')"
      ]
     },
     "execution_count": 25,
     "metadata": {},
     "output_type": "execute_result"
    }
   ],
   "source": [
    "df.columns"
   ]
  },
  {
   "cell_type": "markdown",
   "id": "99a38b68",
   "metadata": {
    "papermill": {
     "duration": 0.023685,
     "end_time": "2023-04-23T11:29:52.195841",
     "exception": false,
     "start_time": "2023-04-23T11:29:52.172156",
     "status": "completed"
    },
    "tags": []
   },
   "source": [
    "First I'll use some basic one-hot encoding."
   ]
  },
  {
   "cell_type": "code",
   "execution_count": 26,
   "id": "28cf203c",
   "metadata": {
    "execution": {
     "iopub.execute_input": "2023-04-23T11:29:52.246338Z",
     "iopub.status.busy": "2023-04-23T11:29:52.245625Z",
     "iopub.status.idle": "2023-04-23T11:29:52.250200Z",
     "shell.execute_reply": "2023-04-23T11:29:52.249221Z"
    },
    "papermill": {
     "duration": 0.032785,
     "end_time": "2023-04-23T11:29:52.252681",
     "exception": false,
     "start_time": "2023-04-23T11:29:52.219896",
     "status": "completed"
    },
    "tags": []
   },
   "outputs": [],
   "source": [
    "df1 = df.copy()"
   ]
  },
  {
   "cell_type": "code",
   "execution_count": 27,
   "id": "391be905",
   "metadata": {
    "execution": {
     "iopub.execute_input": "2023-04-23T11:29:52.303279Z",
     "iopub.status.busy": "2023-04-23T11:29:52.302693Z",
     "iopub.status.idle": "2023-04-23T11:29:52.310207Z",
     "shell.execute_reply": "2023-04-23T11:29:52.309349Z"
    },
    "papermill": {
     "duration": 0.035499,
     "end_time": "2023-04-23T11:29:52.312570",
     "exception": false,
     "start_time": "2023-04-23T11:29:52.277071",
     "status": "completed"
    },
    "tags": []
   },
   "outputs": [],
   "source": [
    "#Dummies for region\n",
    "dummyr = pd.get_dummies(df1.region, prefix='region')"
   ]
  },
  {
   "cell_type": "code",
   "execution_count": 28,
   "id": "5ca89820",
   "metadata": {
    "execution": {
     "iopub.execute_input": "2023-04-23T11:29:52.362898Z",
     "iopub.status.busy": "2023-04-23T11:29:52.361742Z",
     "iopub.status.idle": "2023-04-23T11:29:52.371879Z",
     "shell.execute_reply": "2023-04-23T11:29:52.370839Z"
    },
    "papermill": {
     "duration": 0.038203,
     "end_time": "2023-04-23T11:29:52.374484",
     "exception": false,
     "start_time": "2023-04-23T11:29:52.336281",
     "status": "completed"
    },
    "tags": []
   },
   "outputs": [],
   "source": [
    "df1 = df1.join(dummyr)"
   ]
  },
  {
   "cell_type": "code",
   "execution_count": 29,
   "id": "2dda0733",
   "metadata": {
    "execution": {
     "iopub.execute_input": "2023-04-23T11:29:52.426283Z",
     "iopub.status.busy": "2023-04-23T11:29:52.425221Z",
     "iopub.status.idle": "2023-04-23T11:29:52.442158Z",
     "shell.execute_reply": "2023-04-23T11:29:52.440995Z"
    },
    "papermill": {
     "duration": 0.044905,
     "end_time": "2023-04-23T11:29:52.444509",
     "exception": false,
     "start_time": "2023-04-23T11:29:52.399604",
     "status": "completed"
    },
    "tags": []
   },
   "outputs": [
    {
     "data": {
      "text/html": [
       "<div>\n",
       "<style scoped>\n",
       "    .dataframe tbody tr th:only-of-type {\n",
       "        vertical-align: middle;\n",
       "    }\n",
       "\n",
       "    .dataframe tbody tr th {\n",
       "        vertical-align: top;\n",
       "    }\n",
       "\n",
       "    .dataframe thead th {\n",
       "        text-align: right;\n",
       "    }\n",
       "</style>\n",
       "<table border=\"1\" class=\"dataframe\">\n",
       "  <thead>\n",
       "    <tr style=\"text-align: right;\">\n",
       "      <th></th>\n",
       "      <th>age</th>\n",
       "      <th>sex</th>\n",
       "      <th>bmi</th>\n",
       "      <th>children</th>\n",
       "      <th>smoker</th>\n",
       "      <th>region</th>\n",
       "      <th>charges</th>\n",
       "      <th>bmi_cat</th>\n",
       "      <th>region_northeast</th>\n",
       "      <th>region_northwest</th>\n",
       "      <th>region_southeast</th>\n",
       "      <th>region_southwest</th>\n",
       "    </tr>\n",
       "  </thead>\n",
       "  <tbody>\n",
       "    <tr>\n",
       "      <th>0</th>\n",
       "      <td>19</td>\n",
       "      <td>female</td>\n",
       "      <td>27.900</td>\n",
       "      <td>0</td>\n",
       "      <td>yes</td>\n",
       "      <td>southwest</td>\n",
       "      <td>16884.92400</td>\n",
       "      <td>overweight</td>\n",
       "      <td>0</td>\n",
       "      <td>0</td>\n",
       "      <td>0</td>\n",
       "      <td>1</td>\n",
       "    </tr>\n",
       "    <tr>\n",
       "      <th>1</th>\n",
       "      <td>18</td>\n",
       "      <td>male</td>\n",
       "      <td>33.770</td>\n",
       "      <td>1</td>\n",
       "      <td>no</td>\n",
       "      <td>southeast</td>\n",
       "      <td>1725.55230</td>\n",
       "      <td>obese</td>\n",
       "      <td>0</td>\n",
       "      <td>0</td>\n",
       "      <td>1</td>\n",
       "      <td>0</td>\n",
       "    </tr>\n",
       "    <tr>\n",
       "      <th>2</th>\n",
       "      <td>28</td>\n",
       "      <td>male</td>\n",
       "      <td>33.000</td>\n",
       "      <td>3</td>\n",
       "      <td>no</td>\n",
       "      <td>southeast</td>\n",
       "      <td>4449.46200</td>\n",
       "      <td>obese</td>\n",
       "      <td>0</td>\n",
       "      <td>0</td>\n",
       "      <td>1</td>\n",
       "      <td>0</td>\n",
       "    </tr>\n",
       "    <tr>\n",
       "      <th>3</th>\n",
       "      <td>33</td>\n",
       "      <td>male</td>\n",
       "      <td>22.705</td>\n",
       "      <td>0</td>\n",
       "      <td>no</td>\n",
       "      <td>northwest</td>\n",
       "      <td>21984.47061</td>\n",
       "      <td>normal</td>\n",
       "      <td>0</td>\n",
       "      <td>1</td>\n",
       "      <td>0</td>\n",
       "      <td>0</td>\n",
       "    </tr>\n",
       "    <tr>\n",
       "      <th>4</th>\n",
       "      <td>32</td>\n",
       "      <td>male</td>\n",
       "      <td>28.880</td>\n",
       "      <td>0</td>\n",
       "      <td>no</td>\n",
       "      <td>northwest</td>\n",
       "      <td>3866.85520</td>\n",
       "      <td>overweight</td>\n",
       "      <td>0</td>\n",
       "      <td>1</td>\n",
       "      <td>0</td>\n",
       "      <td>0</td>\n",
       "    </tr>\n",
       "  </tbody>\n",
       "</table>\n",
       "</div>"
      ],
      "text/plain": [
       "   age     sex     bmi  children smoker     region      charges     bmi_cat  \\\n",
       "0   19  female  27.900         0    yes  southwest  16884.92400  overweight   \n",
       "1   18    male  33.770         1     no  southeast   1725.55230       obese   \n",
       "2   28    male  33.000         3     no  southeast   4449.46200       obese   \n",
       "3   33    male  22.705         0     no  northwest  21984.47061      normal   \n",
       "4   32    male  28.880         0     no  northwest   3866.85520  overweight   \n",
       "\n",
       "   region_northeast  region_northwest  region_southeast  region_southwest  \n",
       "0                 0                 0                 0                 1  \n",
       "1                 0                 0                 1                 0  \n",
       "2                 0                 0                 1                 0  \n",
       "3                 0                 1                 0                 0  \n",
       "4                 0                 1                 0                 0  "
      ]
     },
     "execution_count": 29,
     "metadata": {},
     "output_type": "execute_result"
    }
   ],
   "source": [
    "df1.head()"
   ]
  },
  {
   "cell_type": "code",
   "execution_count": 30,
   "id": "014fa748",
   "metadata": {
    "execution": {
     "iopub.execute_input": "2023-04-23T11:29:52.495558Z",
     "iopub.status.busy": "2023-04-23T11:29:52.495157Z",
     "iopub.status.idle": "2023-04-23T11:29:52.502503Z",
     "shell.execute_reply": "2023-04-23T11:29:52.501414Z"
    },
    "papermill": {
     "duration": 0.035844,
     "end_time": "2023-04-23T11:29:52.504844",
     "exception": false,
     "start_time": "2023-04-23T11:29:52.469000",
     "status": "completed"
    },
    "tags": []
   },
   "outputs": [],
   "source": [
    "#Dummies for sex\n",
    "dummys = pd.get_dummies(df.sex, prefix='sex')\n",
    "df1 = df1.join(dummys)"
   ]
  },
  {
   "cell_type": "code",
   "execution_count": 31,
   "id": "f52dcc78",
   "metadata": {
    "execution": {
     "iopub.execute_input": "2023-04-23T11:29:52.558391Z",
     "iopub.status.busy": "2023-04-23T11:29:52.557960Z",
     "iopub.status.idle": "2023-04-23T11:29:52.564960Z",
     "shell.execute_reply": "2023-04-23T11:29:52.564115Z"
    },
    "papermill": {
     "duration": 0.035139,
     "end_time": "2023-04-23T11:29:52.566969",
     "exception": false,
     "start_time": "2023-04-23T11:29:52.531830",
     "status": "completed"
    },
    "tags": []
   },
   "outputs": [],
   "source": [
    "#Dummies for smoker\n",
    "dummysm = pd.get_dummies(df.smoker, prefix='smoker')\n",
    "df1 = df1.join(dummysm)"
   ]
  },
  {
   "cell_type": "code",
   "execution_count": 32,
   "id": "7ce2fa79",
   "metadata": {
    "execution": {
     "iopub.execute_input": "2023-04-23T11:29:52.618764Z",
     "iopub.status.busy": "2023-04-23T11:29:52.618304Z",
     "iopub.status.idle": "2023-04-23T11:29:52.625621Z",
     "shell.execute_reply": "2023-04-23T11:29:52.624524Z"
    },
    "papermill": {
     "duration": 0.035659,
     "end_time": "2023-04-23T11:29:52.628027",
     "exception": false,
     "start_time": "2023-04-23T11:29:52.592368",
     "status": "completed"
    },
    "tags": []
   },
   "outputs": [
    {
     "data": {
      "text/plain": [
       "Index(['age', 'sex', 'bmi', 'children', 'smoker', 'region', 'charges',\n",
       "       'bmi_cat', 'region_northeast', 'region_northwest', 'region_southeast',\n",
       "       'region_southwest', 'sex_female', 'sex_male', 'smoker_no',\n",
       "       'smoker_yes'],\n",
       "      dtype='object')"
      ]
     },
     "execution_count": 32,
     "metadata": {},
     "output_type": "execute_result"
    }
   ],
   "source": [
    "df1.columns"
   ]
  },
  {
   "cell_type": "code",
   "execution_count": 33,
   "id": "2904c12c",
   "metadata": {
    "execution": {
     "iopub.execute_input": "2023-04-23T11:29:52.679260Z",
     "iopub.status.busy": "2023-04-23T11:29:52.678822Z",
     "iopub.status.idle": "2023-04-23T11:29:52.686525Z",
     "shell.execute_reply": "2023-04-23T11:29:52.685437Z"
    },
    "papermill": {
     "duration": 0.036313,
     "end_time": "2023-04-23T11:29:52.688950",
     "exception": false,
     "start_time": "2023-04-23T11:29:52.652637",
     "status": "completed"
    },
    "tags": []
   },
   "outputs": [],
   "source": [
    "df1.drop(['smoker', 'sex', 'region', 'bmi_cat'], axis = 1, inplace = True)"
   ]
  },
  {
   "cell_type": "code",
   "execution_count": 34,
   "id": "41e31fe7",
   "metadata": {
    "execution": {
     "iopub.execute_input": "2023-04-23T11:29:52.741218Z",
     "iopub.status.busy": "2023-04-23T11:29:52.740269Z",
     "iopub.status.idle": "2023-04-23T11:29:52.755943Z",
     "shell.execute_reply": "2023-04-23T11:29:52.754831Z"
    },
    "papermill": {
     "duration": 0.044945,
     "end_time": "2023-04-23T11:29:52.758521",
     "exception": false,
     "start_time": "2023-04-23T11:29:52.713576",
     "status": "completed"
    },
    "tags": []
   },
   "outputs": [
    {
     "data": {
      "text/html": [
       "<div>\n",
       "<style scoped>\n",
       "    .dataframe tbody tr th:only-of-type {\n",
       "        vertical-align: middle;\n",
       "    }\n",
       "\n",
       "    .dataframe tbody tr th {\n",
       "        vertical-align: top;\n",
       "    }\n",
       "\n",
       "    .dataframe thead th {\n",
       "        text-align: right;\n",
       "    }\n",
       "</style>\n",
       "<table border=\"1\" class=\"dataframe\">\n",
       "  <thead>\n",
       "    <tr style=\"text-align: right;\">\n",
       "      <th></th>\n",
       "      <th>age</th>\n",
       "      <th>bmi</th>\n",
       "      <th>children</th>\n",
       "      <th>charges</th>\n",
       "      <th>region_northeast</th>\n",
       "      <th>region_northwest</th>\n",
       "      <th>region_southeast</th>\n",
       "      <th>region_southwest</th>\n",
       "      <th>sex_female</th>\n",
       "      <th>sex_male</th>\n",
       "      <th>smoker_no</th>\n",
       "      <th>smoker_yes</th>\n",
       "    </tr>\n",
       "  </thead>\n",
       "  <tbody>\n",
       "    <tr>\n",
       "      <th>0</th>\n",
       "      <td>19</td>\n",
       "      <td>27.900</td>\n",
       "      <td>0</td>\n",
       "      <td>16884.92400</td>\n",
       "      <td>0</td>\n",
       "      <td>0</td>\n",
       "      <td>0</td>\n",
       "      <td>1</td>\n",
       "      <td>1</td>\n",
       "      <td>0</td>\n",
       "      <td>0</td>\n",
       "      <td>1</td>\n",
       "    </tr>\n",
       "    <tr>\n",
       "      <th>1</th>\n",
       "      <td>18</td>\n",
       "      <td>33.770</td>\n",
       "      <td>1</td>\n",
       "      <td>1725.55230</td>\n",
       "      <td>0</td>\n",
       "      <td>0</td>\n",
       "      <td>1</td>\n",
       "      <td>0</td>\n",
       "      <td>0</td>\n",
       "      <td>1</td>\n",
       "      <td>1</td>\n",
       "      <td>0</td>\n",
       "    </tr>\n",
       "    <tr>\n",
       "      <th>2</th>\n",
       "      <td>28</td>\n",
       "      <td>33.000</td>\n",
       "      <td>3</td>\n",
       "      <td>4449.46200</td>\n",
       "      <td>0</td>\n",
       "      <td>0</td>\n",
       "      <td>1</td>\n",
       "      <td>0</td>\n",
       "      <td>0</td>\n",
       "      <td>1</td>\n",
       "      <td>1</td>\n",
       "      <td>0</td>\n",
       "    </tr>\n",
       "    <tr>\n",
       "      <th>3</th>\n",
       "      <td>33</td>\n",
       "      <td>22.705</td>\n",
       "      <td>0</td>\n",
       "      <td>21984.47061</td>\n",
       "      <td>0</td>\n",
       "      <td>1</td>\n",
       "      <td>0</td>\n",
       "      <td>0</td>\n",
       "      <td>0</td>\n",
       "      <td>1</td>\n",
       "      <td>1</td>\n",
       "      <td>0</td>\n",
       "    </tr>\n",
       "    <tr>\n",
       "      <th>4</th>\n",
       "      <td>32</td>\n",
       "      <td>28.880</td>\n",
       "      <td>0</td>\n",
       "      <td>3866.85520</td>\n",
       "      <td>0</td>\n",
       "      <td>1</td>\n",
       "      <td>0</td>\n",
       "      <td>0</td>\n",
       "      <td>0</td>\n",
       "      <td>1</td>\n",
       "      <td>1</td>\n",
       "      <td>0</td>\n",
       "    </tr>\n",
       "  </tbody>\n",
       "</table>\n",
       "</div>"
      ],
      "text/plain": [
       "   age     bmi  children      charges  region_northeast  region_northwest  \\\n",
       "0   19  27.900         0  16884.92400                 0                 0   \n",
       "1   18  33.770         1   1725.55230                 0                 0   \n",
       "2   28  33.000         3   4449.46200                 0                 0   \n",
       "3   33  22.705         0  21984.47061                 0                 1   \n",
       "4   32  28.880         0   3866.85520                 0                 1   \n",
       "\n",
       "   region_southeast  region_southwest  sex_female  sex_male  smoker_no  \\\n",
       "0                 0                 1           1         0          0   \n",
       "1                 1                 0           0         1          1   \n",
       "2                 1                 0           0         1          1   \n",
       "3                 0                 0           0         1          1   \n",
       "4                 0                 0           0         1          1   \n",
       "\n",
       "   smoker_yes  \n",
       "0           1  \n",
       "1           0  \n",
       "2           0  \n",
       "3           0  \n",
       "4           0  "
      ]
     },
     "execution_count": 34,
     "metadata": {},
     "output_type": "execute_result"
    }
   ],
   "source": [
    "df1.head()"
   ]
  },
  {
   "cell_type": "markdown",
   "id": "10f3d652",
   "metadata": {},
   "source": [
    "# feature Scaling"
   ]
  },
  {
   "cell_type": "code",
   "execution_count": 35,
   "id": "9c80be7a",
   "metadata": {},
   "outputs": [
    {
     "name": "stdout",
     "output_type": "stream",
     "text": [
      "Index(['age', 'bmi', 'children', 'region_northeast', 'region_northwest',\n",
      "       'region_southeast', 'region_southwest', 'sex_female', 'sex_male',\n",
      "       'smoker_no', 'smoker_yes'],\n",
      "      dtype='object')\n"
     ]
    }
   ],
   "source": [
    "#Grouping Features for Normalization\n",
    "norm_ori = df1.drop(columns = ['charges']).columns\n",
    "print(norm_ori)"
   ]
  },
  {
   "cell_type": "code",
   "execution_count": 48,
   "id": "a5e0198b",
   "metadata": {},
   "outputs": [
    {
     "data": {
      "text/html": [
       "<div>\n",
       "<style scoped>\n",
       "    .dataframe tbody tr th:only-of-type {\n",
       "        vertical-align: middle;\n",
       "    }\n",
       "\n",
       "    .dataframe tbody tr th {\n",
       "        vertical-align: top;\n",
       "    }\n",
       "\n",
       "    .dataframe thead th {\n",
       "        text-align: right;\n",
       "    }\n",
       "</style>\n",
       "<table border=\"1\" class=\"dataframe\">\n",
       "  <thead>\n",
       "    <tr style=\"text-align: right;\">\n",
       "      <th></th>\n",
       "      <th>age</th>\n",
       "      <th>bmi</th>\n",
       "      <th>children</th>\n",
       "      <th>charges</th>\n",
       "      <th>region_northeast</th>\n",
       "      <th>region_northwest</th>\n",
       "      <th>region_southeast</th>\n",
       "      <th>region_southwest</th>\n",
       "      <th>sex_female</th>\n",
       "      <th>sex_male</th>\n",
       "      <th>smoker_no</th>\n",
       "      <th>smoker_yes</th>\n",
       "    </tr>\n",
       "  </thead>\n",
       "  <tbody>\n",
       "    <tr>\n",
       "      <th>0</th>\n",
       "      <td>0.021739</td>\n",
       "      <td>0.321227</td>\n",
       "      <td>0.0</td>\n",
       "      <td>16884.92400</td>\n",
       "      <td>0.0</td>\n",
       "      <td>0.0</td>\n",
       "      <td>0.0</td>\n",
       "      <td>1.0</td>\n",
       "      <td>1.0</td>\n",
       "      <td>0.0</td>\n",
       "      <td>0.0</td>\n",
       "      <td>1.0</td>\n",
       "    </tr>\n",
       "    <tr>\n",
       "      <th>1</th>\n",
       "      <td>0.000000</td>\n",
       "      <td>0.479150</td>\n",
       "      <td>0.2</td>\n",
       "      <td>1725.55230</td>\n",
       "      <td>0.0</td>\n",
       "      <td>0.0</td>\n",
       "      <td>1.0</td>\n",
       "      <td>0.0</td>\n",
       "      <td>0.0</td>\n",
       "      <td>1.0</td>\n",
       "      <td>1.0</td>\n",
       "      <td>0.0</td>\n",
       "    </tr>\n",
       "    <tr>\n",
       "      <th>2</th>\n",
       "      <td>0.217391</td>\n",
       "      <td>0.458434</td>\n",
       "      <td>0.6</td>\n",
       "      <td>4449.46200</td>\n",
       "      <td>0.0</td>\n",
       "      <td>0.0</td>\n",
       "      <td>1.0</td>\n",
       "      <td>0.0</td>\n",
       "      <td>0.0</td>\n",
       "      <td>1.0</td>\n",
       "      <td>1.0</td>\n",
       "      <td>0.0</td>\n",
       "    </tr>\n",
       "    <tr>\n",
       "      <th>3</th>\n",
       "      <td>0.326087</td>\n",
       "      <td>0.181464</td>\n",
       "      <td>0.0</td>\n",
       "      <td>21984.47061</td>\n",
       "      <td>0.0</td>\n",
       "      <td>1.0</td>\n",
       "      <td>0.0</td>\n",
       "      <td>0.0</td>\n",
       "      <td>0.0</td>\n",
       "      <td>1.0</td>\n",
       "      <td>1.0</td>\n",
       "      <td>0.0</td>\n",
       "    </tr>\n",
       "    <tr>\n",
       "      <th>4</th>\n",
       "      <td>0.304348</td>\n",
       "      <td>0.347592</td>\n",
       "      <td>0.0</td>\n",
       "      <td>3866.85520</td>\n",
       "      <td>0.0</td>\n",
       "      <td>1.0</td>\n",
       "      <td>0.0</td>\n",
       "      <td>0.0</td>\n",
       "      <td>0.0</td>\n",
       "      <td>1.0</td>\n",
       "      <td>1.0</td>\n",
       "      <td>0.0</td>\n",
       "    </tr>\n",
       "    <tr>\n",
       "      <th>...</th>\n",
       "      <td>...</td>\n",
       "      <td>...</td>\n",
       "      <td>...</td>\n",
       "      <td>...</td>\n",
       "      <td>...</td>\n",
       "      <td>...</td>\n",
       "      <td>...</td>\n",
       "      <td>...</td>\n",
       "      <td>...</td>\n",
       "      <td>...</td>\n",
       "      <td>...</td>\n",
       "      <td>...</td>\n",
       "    </tr>\n",
       "    <tr>\n",
       "      <th>1333</th>\n",
       "      <td>0.695652</td>\n",
       "      <td>0.403820</td>\n",
       "      <td>0.6</td>\n",
       "      <td>10600.54830</td>\n",
       "      <td>0.0</td>\n",
       "      <td>1.0</td>\n",
       "      <td>0.0</td>\n",
       "      <td>0.0</td>\n",
       "      <td>0.0</td>\n",
       "      <td>1.0</td>\n",
       "      <td>1.0</td>\n",
       "      <td>0.0</td>\n",
       "    </tr>\n",
       "    <tr>\n",
       "      <th>1334</th>\n",
       "      <td>0.000000</td>\n",
       "      <td>0.429379</td>\n",
       "      <td>0.0</td>\n",
       "      <td>2205.98080</td>\n",
       "      <td>1.0</td>\n",
       "      <td>0.0</td>\n",
       "      <td>0.0</td>\n",
       "      <td>0.0</td>\n",
       "      <td>1.0</td>\n",
       "      <td>0.0</td>\n",
       "      <td>1.0</td>\n",
       "      <td>0.0</td>\n",
       "    </tr>\n",
       "    <tr>\n",
       "      <th>1335</th>\n",
       "      <td>0.000000</td>\n",
       "      <td>0.562012</td>\n",
       "      <td>0.0</td>\n",
       "      <td>1629.83350</td>\n",
       "      <td>0.0</td>\n",
       "      <td>0.0</td>\n",
       "      <td>1.0</td>\n",
       "      <td>0.0</td>\n",
       "      <td>1.0</td>\n",
       "      <td>0.0</td>\n",
       "      <td>1.0</td>\n",
       "      <td>0.0</td>\n",
       "    </tr>\n",
       "    <tr>\n",
       "      <th>1336</th>\n",
       "      <td>0.065217</td>\n",
       "      <td>0.264730</td>\n",
       "      <td>0.0</td>\n",
       "      <td>2007.94500</td>\n",
       "      <td>0.0</td>\n",
       "      <td>0.0</td>\n",
       "      <td>0.0</td>\n",
       "      <td>1.0</td>\n",
       "      <td>1.0</td>\n",
       "      <td>0.0</td>\n",
       "      <td>1.0</td>\n",
       "      <td>0.0</td>\n",
       "    </tr>\n",
       "    <tr>\n",
       "      <th>1337</th>\n",
       "      <td>0.934783</td>\n",
       "      <td>0.352704</td>\n",
       "      <td>0.0</td>\n",
       "      <td>29141.36030</td>\n",
       "      <td>0.0</td>\n",
       "      <td>1.0</td>\n",
       "      <td>0.0</td>\n",
       "      <td>0.0</td>\n",
       "      <td>1.0</td>\n",
       "      <td>0.0</td>\n",
       "      <td>0.0</td>\n",
       "      <td>1.0</td>\n",
       "    </tr>\n",
       "  </tbody>\n",
       "</table>\n",
       "<p>1337 rows × 12 columns</p>\n",
       "</div>"
      ],
      "text/plain": [
       "           age       bmi  children      charges  region_northeast  \\\n",
       "0     0.021739  0.321227       0.0  16884.92400               0.0   \n",
       "1     0.000000  0.479150       0.2   1725.55230               0.0   \n",
       "2     0.217391  0.458434       0.6   4449.46200               0.0   \n",
       "3     0.326087  0.181464       0.0  21984.47061               0.0   \n",
       "4     0.304348  0.347592       0.0   3866.85520               0.0   \n",
       "...        ...       ...       ...          ...               ...   \n",
       "1333  0.695652  0.403820       0.6  10600.54830               0.0   \n",
       "1334  0.000000  0.429379       0.0   2205.98080               1.0   \n",
       "1335  0.000000  0.562012       0.0   1629.83350               0.0   \n",
       "1336  0.065217  0.264730       0.0   2007.94500               0.0   \n",
       "1337  0.934783  0.352704       0.0  29141.36030               0.0   \n",
       "\n",
       "      region_northwest  region_southeast  region_southwest  sex_female  \\\n",
       "0                  0.0               0.0               1.0         1.0   \n",
       "1                  0.0               1.0               0.0         0.0   \n",
       "2                  0.0               1.0               0.0         0.0   \n",
       "3                  1.0               0.0               0.0         0.0   \n",
       "4                  1.0               0.0               0.0         0.0   \n",
       "...                ...               ...               ...         ...   \n",
       "1333               1.0               0.0               0.0         0.0   \n",
       "1334               0.0               0.0               0.0         1.0   \n",
       "1335               0.0               1.0               0.0         1.0   \n",
       "1336               0.0               0.0               1.0         1.0   \n",
       "1337               1.0               0.0               0.0         1.0   \n",
       "\n",
       "      sex_male  smoker_no  smoker_yes  \n",
       "0          0.0        0.0         1.0  \n",
       "1          1.0        1.0         0.0  \n",
       "2          1.0        1.0         0.0  \n",
       "3          1.0        1.0         0.0  \n",
       "4          1.0        1.0         0.0  \n",
       "...        ...        ...         ...  \n",
       "1333       1.0        1.0         0.0  \n",
       "1334       0.0        1.0         0.0  \n",
       "1335       0.0        1.0         0.0  \n",
       "1336       0.0        1.0         0.0  \n",
       "1337       0.0        0.0         1.0  \n",
       "\n",
       "[1337 rows x 12 columns]"
      ]
     },
     "execution_count": 48,
     "metadata": {},
     "output_type": "execute_result"
    }
   ],
   "source": [
    "#Normalization Features\n",
    "for i in range(len(norm_ori)):\n",
    "    df1[norm_ori[i]] = MinMaxScaler().fit_transform(df1[norm_ori[i]].values.reshape(len(df1), 1))\n",
    "    \n",
    "#Check dfori\n",
    "df1"
   ]
  },
  {
   "cell_type": "markdown",
   "id": "7b99428d",
   "metadata": {
    "papermill": {
     "duration": 0.025625,
     "end_time": "2023-04-23T11:29:52.809841",
     "exception": false,
     "start_time": "2023-04-23T11:29:52.784216",
     "status": "completed"
    },
    "tags": []
   },
   "source": [
    "## Model Training"
   ]
  },
  {
   "cell_type": "code",
   "execution_count": 49,
   "id": "27d0aa2e",
   "metadata": {},
   "outputs": [],
   "source": [
    "#Model Evaluation\n",
    "def evaluation(model, prediction, xtrain, ytrain, xtest, ytest):\n",
    "    print('MAE : %.2f' % mean_absolute_error(ytest, prediction)) # MAE\n",
    "    print('RMSE : %.2f' % mean_squared_error(ytest, prediction, squared=False)) # RMSE\n",
    "    print('R2 score : %.2f' % r2_score(ytest, prediction)) # R2 score\n",
    "    print('Train Accuracy :', model.score(xtrain, ytrain)) # Train Accuracy\n",
    "    print('Test Accuracy :', model.score(xtest, ytest)) # Test Accuracy"
   ]
  },
  {
   "cell_type": "code",
   "execution_count": 50,
   "id": "0a4b9d9a",
   "metadata": {},
   "outputs": [],
   "source": [
    "#Best Hyperparameter Evaluation\n",
    "def best_hyperparameter(model, parameters):\n",
    "    for key, value in parameters.items() :\n",
    "        print('Best '+ key +':', model.get_params()[key])"
   ]
  },
  {
   "cell_type": "code",
   "execution_count": 51,
   "id": "015121a7",
   "metadata": {},
   "outputs": [],
   "source": [
    "#Best Feature Importance Evaluation\n",
    "def feature_importance(model, x):\n",
    "    feat_importances = pd.Series(model.best_estimator_.feature_importances_, index = x.columns)\n",
    "    ax = feat_importances.nlargest(10).plot(kind = 'barh', figsize = (10, 8))\n",
    "    ax.invert_yaxis()\n",
    "    \n",
    "    plt.xlabel('Score')\n",
    "    plt.ylabel('Feature')\n",
    "    plt.title('Feature Importance Score')"
   ]
  },
  {
   "cell_type": "code",
   "execution_count": 53,
   "id": "cc2e3c03",
   "metadata": {},
   "outputs": [],
   "source": [
    "#Separating Target & Features\n",
    "x1 = df1.drop(columns = ['charges']) #Features\n",
    "y1 = df1['charges'] #Target"
   ]
  },
  {
   "cell_type": "code",
   "execution_count": 54,
   "id": "e9001994",
   "metadata": {},
   "outputs": [],
   "source": [
    "#Splitting Train & Test \n",
    "xtrain1, xtest1, ytrain1, ytest1 = train_test_split(x1, y1, test_size = 0.3, random_state = 42)"
   ]
  },
  {
   "cell_type": "code",
   "execution_count": 56,
   "id": "83c41e64",
   "metadata": {},
   "outputs": [
    {
     "name": "stdout",
     "output_type": "stream",
     "text": [
      "0       16884.92400\n",
      "1        1725.55230\n",
      "2        4449.46200\n",
      "3       21984.47061\n",
      "4        3866.85520\n",
      "           ...     \n",
      "1333    10600.54830\n",
      "1334     2205.98080\n",
      "1335     1629.83350\n",
      "1336     2007.94500\n",
      "1337    29141.36030\n",
      "Name: charges, Length: 1337, dtype: float64\n"
     ]
    }
   ],
   "source": [
    "print(df1['charges'])"
   ]
  },
  {
   "cell_type": "code",
   "execution_count": 57,
   "id": "027c4b8d",
   "metadata": {},
   "outputs": [
    {
     "name": "stdout",
     "output_type": "stream",
     "text": [
      "Model: LinearRegression\n",
      "MAE : 4227.09\n",
      "RMSE : 6280.85\n",
      "R2 score : 0.77\n",
      "Train Accuracy : 0.7338670490812471\n",
      "Test Accuracy : 0.7694620930823695\n",
      "None \n",
      "\n",
      "Model: DecisionTree\n",
      "MAE : 2746.54\n",
      "RMSE : 6006.75\n",
      "R2 score : 0.79\n",
      "Train Accuracy : 1.0\n",
      "Test Accuracy : 0.7891447741250102\n",
      "None \n",
      "\n",
      "Model: RandomForest\n",
      "MAE : 2537.70\n",
      "RMSE : 4795.24\n",
      "R2 score : 0.87\n",
      "Train Accuracy : 0.9755005623649465\n",
      "Test Accuracy : 0.8656227831199671\n",
      "None \n",
      "\n",
      "Model: Ridge\n",
      "MAE : 4171.59\n",
      "RMSE : 6252.42\n",
      "R2 score : 0.77\n",
      "Train Accuracy : 0.7361982430485154\n",
      "Test Accuracy : 0.7715450121117843\n",
      "None \n",
      "\n",
      "Model: Lasso\n",
      "MAE : 4181.08\n",
      "RMSE : 6241.24\n",
      "R2 score : 0.77\n",
      "Train Accuracy : 0.736262955188729\n",
      "Test Accuracy : 0.7723609978790456\n",
      "None \n",
      "\n"
     ]
    }
   ],
   "source": [
    "#Modeling\n",
    "models = {\n",
    "    'LinearRegression' : LinearRegression(),\n",
    "    'DecisionTree'     : DecisionTreeRegressor(),\n",
    "    'RandomForest'     : RandomForestRegressor(),\n",
    "    'Ridge'            : Ridge(),\n",
    "    'Lasso'            : Lasso()\n",
    "}\n",
    "\n",
    "for model_name, model in models.items():\n",
    "    model.fit(xtrain1, ytrain1)\n",
    "    prediction1 = model.predict(xtest1)\n",
    "    print('Model: {}'.format(model_name))\n",
    "    print(evaluation(model, prediction1, xtrain1, ytrain1, xtest1, ytest1), '\\n')"
   ]
  },
  {
   "cell_type": "markdown",
   "id": "0bda542e",
   "metadata": {},
   "source": [
    "# Tuning Hyperparameter"
   ]
  },
  {
   "cell_type": "code",
   "execution_count": 78,
   "id": "e0ad2a0c",
   "metadata": {},
   "outputs": [
    {
     "data": {
      "text/plain": [
       "dict_keys(['copy_X', 'fit_intercept', 'n_jobs', 'normalize', 'positive'])"
      ]
     },
     "execution_count": 78,
     "metadata": {},
     "output_type": "execute_result"
    }
   ],
   "source": [
    "LinearRegression().get_params().keys()"
   ]
  },
  {
   "cell_type": "code",
   "execution_count": 79,
   "id": "3f5c682f",
   "metadata": {},
   "outputs": [
    {
     "name": "stdout",
     "output_type": "stream",
     "text": [
      "MAE : 4194.80\n",
      "RMSE : 6261.79\n",
      "R2 score : 0.77\n",
      "Train Accuracy : 0.7354353995171626\n",
      "Test Accuracy : 0.7708594405414821\n"
     ]
    }
   ],
   "source": [
    "#List Hyperparameters\n",
    "hyperparameters = dict(\n",
    "                       fit_intercept = [True, False],\n",
    "                       n_jobs = [-1, 0, 1, 2],\n",
    "                       normalize = [True, False],\n",
    "                       copy_X = [True, False]\n",
    "                      )\n",
    "\n",
    "#Initiation\n",
    "LR1 = LinearRegression()\n",
    "LR_tuned1 = RandomizedSearchCV(LR1, hyperparameters, cv=5, random_state=42, scoring='r2')\n",
    "LR_tuned1.fit(xtrain1, ytrain1)\n",
    "\n",
    "# Predict & Evaluation\n",
    "prediction1 = LR_tuned1.predict(xtest1)\n",
    "evaluation(LR_tuned1, prediction1, xtrain1, ytrain1, xtest1, ytest1)"
   ]
  },
  {
   "cell_type": "code",
   "execution_count": null,
   "id": "bde0796c",
   "metadata": {},
   "outputs": [],
   "source": []
  },
  {
   "cell_type": "code",
   "execution_count": 80,
   "id": "2bf28ff6",
   "metadata": {},
   "outputs": [
    {
     "name": "stdout",
     "output_type": "stream",
     "text": [
      "Best fit_intercept: False\n",
      "Best n_jobs: 1\n",
      "Best normalize: False\n",
      "Best copy_X: False\n"
     ]
    }
   ],
   "source": [
    "#Check Best Hyperparameter\n",
    "best_hyperparameter(LR_tuned1.best_estimator_, hyperparameters)"
   ]
  },
  {
   "cell_type": "code",
   "execution_count": 62,
   "id": "6696bb5a",
   "metadata": {},
   "outputs": [],
   "source": [
    "alpha = [0.01, 0.1, 1, 2, 5, 10, 100]\n",
    "solver = ['lsqr', 'auto', 'sag', 'saga', 'cholesky']\n",
    "fit_intercept = [True, False]\n",
    "hyperparameters = dict(alpha=alpha, solver=solver, fit_intercept=fit_intercept)\n",
    "\n",
    "Ridge1 = Ridge()\n",
    "Ridge_tuned = RandomizedSearchCV(Ridge1, hyperparameters, cv=5, random_state=42, scoring='r2')\n",
    "\n",
    "#Fitting Model\n",
    "hyper_ridge = Ridge_tuned.fit(xtrain1, ytrain1)"
   ]
  },
  {
   "cell_type": "code",
   "execution_count": 63,
   "id": "469442f6",
   "metadata": {},
   "outputs": [
    {
     "name": "stdout",
     "output_type": "stream",
     "text": [
      "MAE : 4180.76\n",
      "RMSE : 6241.42\n",
      "R2 score : 0.77\n",
      "Train Accuracy : 0.7362630203501666\n",
      "Test Accuracy : 0.7723478468707161\n"
     ]
    }
   ],
   "source": [
    "prediction1 = hyper_ridge.predict(xtest1)\n",
    "evaluation(hyper_ridge, prediction1, xtrain1, ytrain1, xtest1, ytest1)"
   ]
  },
  {
   "cell_type": "code",
   "execution_count": 64,
   "id": "4bcc1c7a",
   "metadata": {},
   "outputs": [
    {
     "name": "stdout",
     "output_type": "stream",
     "text": [
      "Best alpha: 0.1\n",
      "Best solver: lsqr\n",
      "Best fit_intercept: True\n"
     ]
    }
   ],
   "source": [
    "#Check Best Hyperparameter\n",
    "best_hyperparameter(hyper_ridge.best_estimator_, hyperparameters)"
   ]
  },
  {
   "cell_type": "code",
   "execution_count": null,
   "id": "199dbfab",
   "metadata": {},
   "outputs": [],
   "source": []
  },
  {
   "cell_type": "code",
   "execution_count": 66,
   "id": "7eb7484f",
   "metadata": {
    "execution": {
     "iopub.execute_input": "2023-04-23T11:29:53.677951Z",
     "iopub.status.busy": "2023-04-23T11:29:53.677170Z",
     "iopub.status.idle": "2023-04-23T11:29:53.865132Z",
     "shell.execute_reply": "2023-04-23T11:29:53.863814Z"
    },
    "papermill": {
     "duration": 0.21762,
     "end_time": "2023-04-23T11:29:53.868542",
     "exception": false,
     "start_time": "2023-04-23T11:29:53.650922",
     "status": "completed"
    },
    "tags": []
   },
   "outputs": [
    {
     "data": {
      "image/png": "[encoded data removed]",
      "text/plain": [
       "<Figure size 640x480 with 1 Axes>"
      ]
     },
     "metadata": {},
     "output_type": "display_data"
    }
   ],
   "source": [
    "sns.set_palette(palette)\n",
    "plt.plot(ytest1,prediction1,'o')\n",
    "m,b = np.polyfit(ytest1,prediction1,1)\n",
    "plt.plot(ytest1,m*ytest1+b)\n",
    "plt.show()"
   ]
  },
  {
   "cell_type": "markdown",
   "id": "42fb06bb",
   "metadata": {},
   "source": [
    "# saving the model"
   ]
  },
  {
   "cell_type": "code",
   "execution_count": 68,
   "id": "80d5c4e3",
   "metadata": {},
   "outputs": [],
   "source": [
    "import pickle"
   ]
  },
  {
   "cell_type": "code",
   "execution_count": 69,
   "id": "74b0178c",
   "metadata": {},
   "outputs": [],
   "source": [
    "pickle.dump(model, open('insurance.pkl', 'wb'))"
   ]
  },
  {
   "cell_type": "code",
   "execution_count": 70,
   "id": "9ecbe99e",
   "metadata": {},
   "outputs": [
    {
     "data": {
      "text/plain": [
       "array([ 8.08687790e+03,  5.49973034e+03,  1.43231788e+04,  3.14092260e+04,\n",
       "        8.87449415e+03,  1.31062519e+04,  3.01997540e+04,  1.24108446e+03,\n",
       "        1.05754491e+04,  1.11975629e+04,  1.02741678e+04,  3.28257200e+04,\n",
       "        3.08398488e+04,  1.74775370e+04,  1.08121758e+04,  9.38692878e+03,\n",
       "        3.99729744e+03,  3.14343070e+04,  2.98070546e+03,  5.08121292e+03,\n",
       "        3.41788939e+03,  3.00107843e+04,  1.49037493e+04,  3.00973802e+04,\n",
       "        3.08338324e+04,  5.37037593e+03,  3.52572870e+04,  3.63232841e+04,\n",
       "        1.14157105e+04,  1.41999158e+04,  6.47037957e+03,  1.26944693e+04,\n",
       "        1.61916370e+02,  1.19907093e+04,  3.95352862e+04,  1.22799616e+04,\n",
       "        4.48909618e+03,  3.67433330e+03,  3.05062832e+04,  8.84599206e+03,\n",
       "        7.06947044e+03,  2.97834257e+04,  3.44816956e+04,  1.23087230e+04,\n",
       "        7.17281847e+03,  3.23827829e+03,  6.22048745e+03,  8.86469543e+03,\n",
       "        4.09198479e+03,  8.90422572e+03,  6.46449670e+03,  1.21638739e+04,\n",
       "        3.09736023e+04,  3.41946829e+03,  1.09561045e+04,  9.61995003e+03,\n",
       "        1.08171252e+04,  2.22001809e+03,  3.08609463e+04,  9.29140052e+03,\n",
       "        1.55458443e+04,  8.09897369e+03,  1.25326495e+04,  1.48395350e+03,\n",
       "        1.70035431e+04,  1.06394675e+04,  1.05983080e+04,  3.04192396e+04,\n",
       "        2.43603826e+04,  1.66686704e+04,  7.11318910e+03,  2.89546728e+03,\n",
       "        7.06323258e+03, -1.82812182e+02,  1.17065115e+04, -1.37668116e+03,\n",
       "        1.71749084e+04,  8.51311640e+03,  7.55813091e+03,  1.28376589e+04,\n",
       "        5.82959292e+03,  1.85451718e+04,  1.55722549e+04,  1.08800847e+04,\n",
       "        3.62843941e+04,  1.30624579e+04,  4.27950211e+03,  2.14090034e+03,\n",
       "        6.67845056e+03,  3.92086593e+03,  1.49479206e+04,  2.77530324e+04,\n",
       "        5.23598489e+03,  3.10794190e+03,  1.99249816e+03,  3.57491560e+04,\n",
       "        1.43680528e+04,  8.73804748e+03,  4.06557328e+03,  8.61761119e+03,\n",
       "        1.39890375e+04,  1.50884340e+04,  3.17792622e+04,  1.44987180e+04,\n",
       "        3.24267246e+04, -1.60429772e+02,  3.08890442e+04,  2.62841354e+04,\n",
       "        1.38763420e+04,  5.83372082e+03,  8.00467114e+03,  1.15096966e+04,\n",
       "        8.45731775e+03,  1.02385186e+04,  6.10671156e+03,  5.25140117e+03,\n",
       "        1.77002990e+03,  2.91728940e+03,  6.97929569e+03,  8.89405312e+03,\n",
       "        3.57924262e+04,  8.23349079e+03,  1.15117664e+04,  9.06648132e+03,\n",
       "        8.91985448e+03,  9.52743778e+03,  4.35187465e+03,  1.23092814e+04,\n",
       "        2.95214565e+04,  3.87857316e+04,  3.57512398e+04,  1.23473283e+04,\n",
       "        2.19219016e+03,  1.13685682e+04,  1.03356359e+04,  5.37522526e+03,\n",
       "        3.47145146e+04,  2.95777192e+04,  2.51433334e+04,  4.74608089e+03,\n",
       "        6.58894699e+03,  5.69347496e+03,  3.63775056e+04,  1.08245946e+04,\n",
       "        5.47197780e+03,  8.28999566e+03,  1.01890436e+04,  8.33073338e+03,\n",
       "        3.47704164e+04,  1.44896111e+04,  9.73100758e+03,  6.69279219e+03,\n",
       "        6.94587710e+03,  1.68242547e+04,  6.74455287e+03,  2.60695573e+04,\n",
       "        3.65336353e+04,  1.68370299e+04,  9.83670780e+03,  1.10415879e+04,\n",
       "        1.27737110e+04,  4.05898210e+03,  1.27812799e+04,  1.35606436e+04,\n",
       "        3.54305310e+04,  3.31071232e+04,  1.27600786e+04,  2.47886456e+04,\n",
       "        2.47784653e+03,  1.86741230e+03,  4.73888743e+03,  4.93067600e+03,\n",
       "        5.19381662e+03,  9.61300618e+03,  9.93102004e+03,  2.58096182e+04,\n",
       "        2.19586096e+03,  1.05563383e+04,  6.67429652e+03,  1.20961472e+04,\n",
       "        1.48725385e+04,  4.99252761e+03,  1.07443319e+04,  9.95345901e+03,\n",
       "        3.27281766e+04,  1.08054373e+04,  7.12958718e+03,  5.69032611e+03,\n",
       "        1.94535546e+02,  3.12244488e+04,  8.31993804e+03,  3.23944831e+04,\n",
       "        1.27090712e+04,  5.83448125e+03,  1.65246909e+03,  1.87382513e+03,\n",
       "        3.25688898e+04,  4.83224821e+03,  1.30760835e+04,  1.75915907e+04,\n",
       "        2.60313662e+04,  2.53436768e+04,  6.42783770e+03,  1.20996542e+04,\n",
       "        2.80779665e+04,  7.84788865e+03,  1.02057150e+04,  1.01604586e+04,\n",
       "        3.03231565e+03,  3.40178420e+04,  3.12036818e+04,  9.48097093e+03,\n",
       "        5.65379237e+03,  7.49721435e+03,  1.06908895e+04,  4.64282378e+03,\n",
       "        5.01613315e+03,  1.19278228e+04,  9.14601570e+03,  2.95761719e+03,\n",
       "        4.15589409e+03,  3.73218925e+04,  3.69108747e+04,  1.31436033e+04,\n",
       "        1.06427411e+04,  3.75140872e+04,  3.42500888e+04,  6.76887480e+03,\n",
       "        2.67745758e+04,  3.89737385e+03,  1.57643012e+04,  2.91407490e+04,\n",
       "        5.61828377e+03,  9.36213453e+03,  8.72829542e+03,  9.27409196e+03,\n",
       "        9.58792942e+03,  4.17506394e+03,  5.61651651e+03,  4.43588918e+03,\n",
       "        6.12615673e+03,  4.64254189e+03,  5.91465658e+03,  8.69682505e+03,\n",
       "        9.58268603e+02,  8.27723964e+03,  3.55119046e+03,  1.08093191e+04,\n",
       "        2.58471773e+03,  1.01571505e+04,  3.75882701e+03,  1.19396668e+04,\n",
       "        1.21807996e+04,  1.45362859e+04,  3.67131793e+04,  2.28591315e+04,\n",
       "        1.01087342e+04,  7.84076751e+03,  9.04412356e+03,  1.25144296e+04,\n",
       "        2.90512166e+04,  3.76587945e+04,  1.46424163e+04,  1.68062029e+04,\n",
       "        1.52941812e+04,  6.39823971e+03,  3.82381862e+04,  8.28148884e+03,\n",
       "        2.21112647e+03,  3.15081379e+03,  1.44282218e+04,  1.68789472e+04,\n",
       "        1.00651795e+04,  1.02835913e+04,  1.24677849e+04,  1.26022000e+04,\n",
       "        5.32735311e+03,  9.17432069e+03,  1.21124279e+03,  1.74598522e+04,\n",
       "        5.42240616e+03,  7.60159575e+03,  1.24244170e+04,  3.27265454e+03,\n",
       "        1.32678136e+04,  1.13713097e+04,  5.51317196e+03,  7.77465525e+03,\n",
       "        1.02766594e+04,  1.11658474e+04,  3.81295756e+04,  1.43152149e+04,\n",
       "        2.37678966e+03, -1.55880274e+03,  3.09939350e+04,  1.16785874e+04,\n",
       "        2.30089957e+03,  9.21563502e+03,  1.05103184e+04,  1.31860274e+04,\n",
       "        1.26642881e+03,  3.30091731e+03,  3.91523666e+04,  2.95167691e+04,\n",
       "        3.55302094e+03,  2.10066713e+03,  1.08511344e+04,  4.36195627e+03,\n",
       "        1.60428226e+04,  4.25035488e+03,  5.07708574e+03,  1.15136355e+04,\n",
       "        3.07504672e+04,  1.29589654e+04,  2.50823457e+04,  9.34094860e+03,\n",
       "        3.38948495e+03,  2.95900921e+03,  3.04022448e+04,  1.01976792e+04,\n",
       "        3.88125471e+04,  4.94041180e+03,  1.01510653e+04,  6.28320730e+03,\n",
       "        1.28105329e+04,  3.08877807e+04,  1.16811079e+04,  1.12406812e+04,\n",
       "        6.04778179e+03,  1.43864270e+04,  6.33796132e+03,  7.91515983e+03,\n",
       "        7.00772185e+03,  4.62192674e+03,  1.42037897e+04,  3.71268352e+03,\n",
       "        1.58810965e+04,  9.80980486e+03,  1.24543942e+04,  5.63012772e+03,\n",
       "        5.25417639e+03,  4.26258675e+03,  1.13884222e+04,  7.81543331e+03,\n",
       "        2.12755485e+03,  1.18176969e+04,  3.24932724e+04,  8.68307298e+03,\n",
       "        6.06886679e+03,  6.33931000e+03,  3.87379849e+03,  3.13729484e+04,\n",
       "        1.47461812e+04,  2.60561647e+04,  3.57235881e+04,  5.72427468e+03,\n",
       "        8.27186653e+03,  8.04310018e+03,  3.15919789e+04,  3.90657191e+03,\n",
       "        3.23313813e+04,  2.74012511e+04,  3.50891813e+04,  6.94678360e+03,\n",
       "        2.61841517e+04,  9.84646191e+03,  1.28185034e+04,  1.27736802e+04,\n",
       "        8.52400732e+03,  9.51334893e+03,  1.19477407e+04,  5.82039485e+03,\n",
       "       -7.48082126e+02,  1.20018167e+04,  2.37598760e+03,  3.66730062e+03,\n",
       "        1.80016465e+04,  5.41137990e+03,  1.12231527e+04,  3.25997259e+03,\n",
       "        1.51739211e+04,  1.09502499e+04,  2.35678950e+03,  3.82800582e+04,\n",
       "        4.82196658e+03,  8.14981914e+03,  1.58234439e+04,  1.56736790e+04,\n",
       "        9.59193142e+03,  1.05477390e+04,  9.02423588e+03, -3.87192892e+01,\n",
       "        9.87676243e+03,  3.89147881e+03,  1.05746987e+04,  2.94764898e+04,\n",
       "       -7.22471580e+02,  7.39578968e+03,  1.38604052e+04,  1.21944512e+04,\n",
       "        1.35681130e+04,  8.24031118e+03])"
      ]
     },
     "execution_count": 70,
     "metadata": {},
     "output_type": "execute_result"
    }
   ],
   "source": [
    "pickled_model = pickle.load(open('insurance.pkl', 'rb'))\n",
    "pickled_model.predict(xtest1)"
   ]
  },
  {
   "cell_type": "code",
   "execution_count": null,
   "id": "704f86d8",
   "metadata": {},
   "outputs": [],
   "source": []
  }
 ],
 "metadata": {
  "kernelspec": {
   "display_name": "Python 3 (ipykernel)",
   "language": "python",
   "name": "python3"
  },
  "language_info": {
   "codemirror_mode": {
    "name": "ipython",
    "version": 3
   },
   "file_extension": ".py",
   "mimetype": "text/x-python",
   "name": "python",
   "nbconvert_exporter": "python",
   "pygments_lexer": "ipython3",
   "version": "3.9.13"
  },
  "papermill": {
   "default_parameters": {},
   "duration": 17.961172,
   "end_time": "2023-04-23T11:29:54.901660",
   "environment_variables": {},
   "exception": null,
   "input_path": "__notebook__.ipynb",
   "output_path": "__notebook__.ipynb",
   "parameters": {},
   "start_time": "2023-04-23T11:29:36.940488",
   "version": "2.4.0"
  }
 },
 "nbformat": 4,
 "nbformat_minor": 5
}
